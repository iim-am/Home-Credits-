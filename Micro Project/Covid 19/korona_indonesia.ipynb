{
 "cells": [
  {
   "cell_type": "markdown",
   "metadata": {},
   "source": [
    "# Library "
   ]
  },
  {
   "cell_type": "code",
   "execution_count": 10,
   "metadata": {},
   "outputs": [],
   "source": [
    "import datetime\n",
    "import operator\n",
    "import matplotlib.pyplot as plt\n",
    "from ipywidgets import interact\n",
    "from IPython.display import Markdown as md\n",
    "from datetime import date, timedelta, datetime\n",
    "from numpy import sqrt\n",
    "from pandas import read_csv, to_datetime\n",
    "from prettytable import PrettyTable\n",
    "from sklearn.linear_model import LinearRegression\n",
    "from sklearn.metrics import mean_squared_error, r2_score\n",
    "from sklearn.preprocessing import PolynomialFeatures"
   ]
  },
  {
   "cell_type": "markdown",
   "metadata": {},
   "source": [
    "# Load Data "
   ]
  },
  {
   "cell_type": "code",
   "execution_count": 34,
   "metadata": {},
   "outputs": [],
   "source": [
    "df = read_csv('csv/confirmed_acc.csv').iloc[39:]\n",
    "df = df.reset_index()\n",
    "\n",
    "# manual update apabila update data utama terlambat\n",
    "last_date = to_datetime(df['date'].iloc[-1], format='%m/%d/%Y')\n",
    "data = [\n",
    "            ['4/11/2020', 3842],\n",
    "            ['4/12/2020', 4241],\n",
    "            ['4/13/2020', 4557],\n",
    "            ['4/14/2020', 4839],\n",
    "            ['4/15/2020', 5136],\n",
    "            ['4/16/2020', 5527],\n",
    "            ['4/17/2020', 5923],\n",
    "            ['4/18/2020', 6248],\n",
    "            ['4/19/2020', 6575],\n",
    "            ['4/20/2020', 6760],\n",
    "            ['4/21/2020', 7135],\n",
    "            ['4/22/2020', 7418],\n",
    "            ['4/23/2020', 7775],\n",
    "            ['4/24/2020', 8211],\n",
    "            ['4/25/2020', 8607],\n",
    "            ['4/26/2020', 8882],\n",
    "            ['4/27/2020', 9096],\n",
    "            ['4/28/2020', 9511],\n",
    "            ['4/29/2020', 9771],\n",
    "            ['4/30/2020', 10118],\n",
    "            ['5/1/2020', 10551],\n",
    "            ['5/2/2020', 10843],\n",
    "            ['5/3/2020', 11192],\n",
    "            ['5/4/2020', 11587],\n",
    "            ['5/5/2020', 12071],\n",
    "            ['5/6/2020', 12438],\n",
    "            ['5/7/2020', 12776],\n",
    "            ['5/8/2020', 13112],\n",
    "            ['5/9/2020', 13645],\n",
    "            ['5/10/2020', 14023],\n",
    "            ['5/11/2020', 14265],\n",
    "            ['5/12/2020', 14749],\n",
    "            ['5/13/2020', 15438],\n",
    "            ['5/14/2020', 16006],\n",
    "            ['5/15/2020', 16496],\n",
    "            ['5/16/2020', 17025],\n",
    "            ['5/17/2020', 17514],\n",
    "            ['5/18/2020', 18010],\n",
    "            ['5/19/2020', 18496],\n",
    "            ['5/20/2020', 19189],\n",
    "            ['5/21/2020', 20162],\n",
    "            ['5/22/2020', 20796],\n",
    "            ['5/23/2020', 21745],\n",
    "            ['5/24/2020', 22271],\n",
    "            ['5/25/2020', 22750],\n",
    "            ['5/26/2020', 23165],\n",
    "            ['5/27/2020', 23851],\n",
    "            ['5/28/2020', 24538],\n",
    "            ['5/29/2020', 25216],\n",
    "            ['5/30/2020', 25773],\n",
    "            ['5/31/2020', 26473],\n",
    "            ['6/1/2020', 26770 ]\n",
    "        ]\n",
    "\n",
    "for k,v in data:\n",
    "    if datetime.strptime(k, \"%m/%d/%Y\") > last_date:\n",
    "        df = df.append({'date' : k, 'cases' : v} ,ignore_index=True)\n",
    "\n",
    "# update last_date\n",
    "last_date = to_datetime(df['date'].iloc[-1], format='%m/%d/%Y')"
   ]
  },
  {
   "cell_type": "markdown",
   "metadata": {},
   "source": [
    "# Explore Data"
   ]
  },
  {
   "cell_type": "code",
   "execution_count": 35,
   "metadata": {},
   "outputs": [
    {
     "data": {
      "text/html": [
       "<div>\n",
       "<style scoped>\n",
       "    .dataframe tbody tr th:only-of-type {\n",
       "        vertical-align: middle;\n",
       "    }\n",
       "\n",
       "    .dataframe tbody tr th {\n",
       "        vertical-align: top;\n",
       "    }\n",
       "\n",
       "    .dataframe thead th {\n",
       "        text-align: right;\n",
       "    }\n",
       "</style>\n",
       "<table border=\"1\" class=\"dataframe\">\n",
       "  <thead>\n",
       "    <tr style=\"text-align: right;\">\n",
       "      <th></th>\n",
       "      <th>indeks</th>\n",
       "      <th>tanggal</th>\n",
       "      <th>kasus</th>\n",
       "    </tr>\n",
       "  </thead>\n",
       "  <tbody>\n",
       "    <tr>\n",
       "      <td>0</td>\n",
       "      <td>0</td>\n",
       "      <td>3/1/2020</td>\n",
       "      <td>0</td>\n",
       "    </tr>\n",
       "    <tr>\n",
       "      <td>1</td>\n",
       "      <td>1</td>\n",
       "      <td>3/2/2020</td>\n",
       "      <td>2</td>\n",
       "    </tr>\n",
       "    <tr>\n",
       "      <td>2</td>\n",
       "      <td>2</td>\n",
       "      <td>3/3/2020</td>\n",
       "      <td>2</td>\n",
       "    </tr>\n",
       "    <tr>\n",
       "      <td>3</td>\n",
       "      <td>3</td>\n",
       "      <td>3/4/2020</td>\n",
       "      <td>2</td>\n",
       "    </tr>\n",
       "    <tr>\n",
       "      <td>4</td>\n",
       "      <td>4</td>\n",
       "      <td>3/5/2020</td>\n",
       "      <td>2</td>\n",
       "    </tr>\n",
       "    <tr>\n",
       "      <td>...</td>\n",
       "      <td>...</td>\n",
       "      <td>...</td>\n",
       "      <td>...</td>\n",
       "    </tr>\n",
       "    <tr>\n",
       "      <td>88</td>\n",
       "      <td>88</td>\n",
       "      <td>5/28/2020</td>\n",
       "      <td>24538</td>\n",
       "    </tr>\n",
       "    <tr>\n",
       "      <td>89</td>\n",
       "      <td>89</td>\n",
       "      <td>5/29/2020</td>\n",
       "      <td>25216</td>\n",
       "    </tr>\n",
       "    <tr>\n",
       "      <td>90</td>\n",
       "      <td>90</td>\n",
       "      <td>5/30/2020</td>\n",
       "      <td>25773</td>\n",
       "    </tr>\n",
       "    <tr>\n",
       "      <td>91</td>\n",
       "      <td>91</td>\n",
       "      <td>5/31/2020</td>\n",
       "      <td>26473</td>\n",
       "    </tr>\n",
       "    <tr>\n",
       "      <td>92</td>\n",
       "      <td>92</td>\n",
       "      <td>6/1/2020</td>\n",
       "      <td>26770</td>\n",
       "    </tr>\n",
       "  </tbody>\n",
       "</table>\n",
       "<p>93 rows × 3 columns</p>\n",
       "</div>"
      ],
      "text/plain": [
       "    indeks    tanggal  kasus\n",
       "0        0   3/1/2020      0\n",
       "1        1   3/2/2020      2\n",
       "2        2   3/3/2020      2\n",
       "3        3   3/4/2020      2\n",
       "4        4   3/5/2020      2\n",
       "..     ...        ...    ...\n",
       "88      88  5/28/2020  24538\n",
       "89      89  5/29/2020  25216\n",
       "90      90  5/30/2020  25773\n",
       "91      91  5/31/2020  26473\n",
       "92      92   6/1/2020  26770\n",
       "\n",
       "[93 rows x 3 columns]"
      ]
     },
     "execution_count": 35,
     "metadata": {},
     "output_type": "execute_result"
    }
   ],
   "source": [
    "df['index'] = df.index\n",
    "df.columns = ['indeks', 'tanggal', 'kasus']\n",
    "df"
   ]
  },
  {
   "cell_type": "code",
   "execution_count": 36,
   "metadata": {},
   "outputs": [],
   "source": [
    "df.to_excel('xlsx/koronaIndonesia_PreddictSampai01062020.xlsx', index = False)"
   ]
  },
  {
   "cell_type": "markdown",
   "metadata": {},
   "source": [
    "# Machine Learning "
   ]
  },
  {
   "cell_type": "markdown",
   "metadata": {},
   "source": [
    "### Model polynomial Regression (Degree = 2)"
   ]
  },
  {
   "cell_type": "code",
   "execution_count": 25,
   "metadata": {},
   "outputs": [],
   "source": [
    "degree = 2\n",
    "\n",
    "x = df['indeks'].values.reshape(df['indeks'].size,1)\n",
    "y = df['kasus'].values.reshape(df['kasus'].size,1)\n",
    "polynomial_features= PolynomialFeatures(degree=degree)\n",
    "x_poly = polynomial_features.fit_transform(x)\n",
    "\n",
    "model = LinearRegression()\n",
    "model.fit(x_poly, y)\n",
    "y_poly_pred = model.predict(x_poly)\n",
    "\n",
    "rmse = sqrt(mean_squared_error(y,y_poly_pred))\n",
    "r2 = r2_score(y,y_poly_pred)"
   ]
  },
  {
   "cell_type": "markdown",
   "metadata": {},
   "source": [
    "## Looping"
   ]
  },
  {
   "cell_type": "code",
   "execution_count": 26,
   "metadata": {},
   "outputs": [],
   "source": [
    "def forecast_days_after(n_days_after):\n",
    "    # mengembalikan prediksi model regresi polynomial\n",
    "    model_pred = model.predict(polynomial_features.fit_transform([[n_days_after]]))\n",
    "    return '{:d}'.format(int(round(model_pred[0][0])))\n",
    "\n",
    "start_date = to_datetime(df['tanggal'].iloc[0], format='%m/%d/%Y')\n",
    "last_date = to_datetime(df['tanggal'].iloc[-1], format='%m/%d/%Y')\n",
    "\n",
    "def display_forecast_days_after(n_days_after):\n",
    "    # mengembalikan prediksi model regresi polynomial\n",
    "    end_date = start_date + timedelta(days=n_days_after)\n",
    "    model_pred = model.predict(polynomial_features.fit_transform([[n_days_after]]))\n",
    "    return end_date.strftime(\"%d %B %Y\"), '{:d}'.format(int(round(model_pred[0][0])))\n",
    "\n",
    "def days_passed_timedelta():\n",
    "    # mengembalikan hasil objek timedelta\n",
    "    # berapa hari telah lewat sejak tanggal awal (start_date)\n",
    "    last_date = to_datetime(df['tanggal'].iloc[-1], format='%m/%d/%Y')\n",
    "    return last_date.date() - start_date.date() \n",
    "\n",
    "def date_days_after(n_days_after, date_format=\"%d %B %Y\", **kwargs):\n",
    "    tanggal = start_date + timedelta(days=n_days_after)\n",
    "    return tanggal.date().strftime(date_format)\n",
    "\n",
    "def display_tabel_prediksi(days_after):\n",
    "    # tabel prediksi\n",
    "    days_passed = days_passed_timedelta().days\n",
    "    tabel_prediksi = PrettyTable(['ke-', 'tanggal','prediksi'])\n",
    "    for x in range(days_passed+1,days_after+1):\n",
    "        tabel_prediksi.add_row([x, date_days_after(x, date_format=\"%d-%m-%Y\"), forecast_days_after(x)])\n",
    "    print(tabel_prediksi)\n",
    "    \n",
    "def display_tabel_realisasi(lookback):\n",
    "    # tabel prediksi\n",
    "    days_passed = days_passed_timedelta().days\n",
    "    tabel_realisasi = PrettyTable(['tanggal','pred', 'real', 'p-r'])\n",
    "    for x in range(days_passed, days_passed-lookback+1, -1):\n",
    "        pred_ = int(forecast_days_after(x))\n",
    "        real_ = y[x][0]\n",
    "        eval_ = pred_ - real_    \n",
    "        tabel_realisasi.add_row([date_days_after(x, date_format=\"%d-%m-%Y\"), pred_, real_, eval_])\n",
    "    print(tabel_realisasi)\n",
    "    \n",
    "def display_equation(model):\n",
    "    for coef in model.coef_:\n",
    "        pass\n",
    "    streq = \"$y = \" +str(model.intercept_[0])\n",
    "    for i,c in enumerate(coef):\n",
    "        j = len(coef)-i-1\n",
    "        if abs(c) > c:\n",
    "            sign = \"-\"\n",
    "        else:\n",
    "            sign = \"+\"\n",
    "        if i > 1:\n",
    "            streq += sign +str(abs(c)) + \" \\cdot x^{\"+str(i)+\"}\"\n",
    "        elif i == 1:\n",
    "            streq += sign +str(abs(c)) + \" \\cdot x\"\n",
    "\n",
    "    streq =   streq + \"$\"\n",
    "    return md(streq)\n",
    "\n",
    "def display_widget_forecast_days_after():\n",
    "    print('data terakhir adalah data hari ke-' + str(days_passed_timedelta().days) + \\\n",
    "          ', untuk mendapatkan prediksi ke depan geser slider ke kanan (gunakan tombol panah kanan -> pada keyboard):')\n",
    "    @interact(x=(days_passed_timedelta().days+1, 365,1))\n",
    "    def h(x=days_passed_timedelta().days+1):\n",
    "        tabel_prediksi = PrettyTable(['hari ke-x', 'tanggal','prediksi akumulasi'])\n",
    "        tabel_prediksi.add_row([x, date_days_after(x), forecast_days_after(x)])\n",
    "        print(tabel_prediksi)"
   ]
  },
  {
   "cell_type": "code",
   "execution_count": 27,
   "metadata": {},
   "outputs": [],
   "source": [
    "# tabel parameter\n",
    "# tabel parameter\n",
    "tabel_parameter = PrettyTable(['parameter', 'nilai'])\n",
    "tabel_parameter.add_row(['polynomial\\ndegree', degree])\n",
    "tabel_parameter.add_row(['RMSE','{:.10}'.format(rmse)])\n",
    "tabel_parameter.add_row(['R^2', '{:.10}'.format(r2)])"
   ]
  },
  {
   "cell_type": "markdown",
   "metadata": {},
   "source": [
    "## Visualisasi"
   ]
  },
  {
   "cell_type": "code",
   "execution_count": 28,
   "metadata": {},
   "outputs": [
    {
     "data": {
      "image/png": "[encoded data removed]",
      "text/plain": [
       "<Figure size 432x288 with 1 Axes>"
      ]
     },
     "metadata": {
      "needs_background": "light"
     },
     "output_type": "display_data"
    },
    {
     "name": "stdout",
     "output_type": "stream",
     "text": [
      "+------------+--------------+\n",
      "| parameter  |    nilai     |\n",
      "+------------+--------------+\n",
      "| polynomial |      2       |\n",
      "|   degree   |              |\n",
      "|    RMSE    | 257.2807761  |\n",
      "|    R^2     | 0.9989513603 |\n",
      "+------------+--------------+\n"
     ]
    },
    {
     "data": {
      "text/markdown": [
       "$y = 258.3899167437321-71.22625286344622 \\cdot x+3.9064454588909268 \\cdot x^{2}$"
      ],
      "text/plain": [
       "<IPython.core.display.Markdown object>"
      ]
     },
     "execution_count": 28,
     "metadata": {},
     "output_type": "execute_result"
    }
   ],
   "source": [
    "plt.scatter(x, y, s=10)\n",
    "sort_axis = operator.itemgetter(0)\n",
    "sorted_zip = sorted(zip(x,y_poly_pred), key=sort_axis)\n",
    "x, y_poly_pred = zip(*sorted_zip)\n",
    "plt.title('kumulatif kasus covid-19 di Indonesia\\n')\n",
    "plt.xlabel('\\nhari ke-n sejak 1 Maret 2020')\n",
    "plt.ylabel('jumlah akumulasi\\nkonfirmasi positif')\n",
    "\n",
    "plt.plot(x, y_poly_pred, color='m')\n",
    "plt.show()\n",
    "print(tabel_parameter)\n",
    "display_equation(model)"
   ]
  },
  {
   "cell_type": "markdown",
   "metadata": {},
   "source": [
    "# Prediksi Harian "
   ]
  },
  {
   "cell_type": "code",
   "execution_count": 31,
   "metadata": {},
   "outputs": [
    {
     "name": "stdout",
     "output_type": "stream",
     "text": [
      "+-----+------------+----------+\n",
      "| ke- |  tanggal   | prediksi |\n",
      "+-----+------------+----------+\n",
      "|  92 | 01-06-2020 |  26770   |\n",
      "+-----+------------+----------+\n"
     ]
    }
   ],
   "source": [
    "# tabel prediksi hingga hari ke 60\n",
    "display_tabel_prediksi(92)"
   ]
  },
  {
   "cell_type": "code",
   "execution_count": 32,
   "metadata": {},
   "outputs": [
    {
     "data": {
      "text/plain": [
       "('09 June 2020', '32200')"
      ]
     },
     "execution_count": 32,
     "metadata": {},
     "output_type": "execute_result"
    }
   ],
   "source": [
    "# widget appear in editor but not displayed when published;\n",
    "# download notebook to display widget;\n",
    "# display_widget_forecast_days_after()\n",
    "\n",
    "display_forecast_days_after(100)"
   ]
  },
  {
   "cell_type": "markdown",
   "metadata": {},
   "source": [
    "# Realease Harian "
   ]
  },
  {
   "cell_type": "code",
   "execution_count": 33,
   "metadata": {},
   "outputs": [
    {
     "name": "stdout",
     "output_type": "stream",
     "text": [
      "+------------+-------+-------+------+\n",
      "|  tanggal   |  pred |  real | p-r  |\n",
      "+------------+-------+-------+------+\n",
      "| 31-05-2020 | 26126 | 26473 | -347 |\n",
      "| 30-05-2020 | 25490 | 25773 | -283 |\n",
      "| 29-05-2020 | 24862 | 25216 | -354 |\n",
      "| 28-05-2020 | 24242 | 24538 | -296 |\n",
      "| 27-05-2020 | 23630 | 23851 | -221 |\n",
      "| 26-05-2020 | 23025 | 23165 | -140 |\n",
      "| 25-05-2020 | 22428 | 22750 | -322 |\n",
      "| 24-05-2020 | 21839 | 22271 | -432 |\n",
      "| 23-05-2020 | 21258 | 21745 | -487 |\n",
      "| 22-05-2020 | 20685 | 20796 | -111 |\n",
      "| 21-05-2020 | 20119 | 20162 | -43  |\n",
      "| 20-05-2020 | 19562 | 19189 | 373  |\n",
      "| 19-05-2020 | 19012 | 18496 | 516  |\n",
      "| 18-05-2020 | 18470 | 18010 | 460  |\n",
      "| 17-05-2020 | 17935 | 17514 | 421  |\n",
      "| 16-05-2020 | 17409 | 17025 | 384  |\n",
      "| 15-05-2020 | 16890 | 16496 | 394  |\n",
      "| 14-05-2020 | 16379 | 16006 | 373  |\n",
      "| 13-05-2020 | 15876 | 15438 | 438  |\n",
      "| 12-05-2020 | 15381 | 14749 | 632  |\n",
      "+------------+-------+-------+------+\n"
     ]
    }
   ],
   "source": [
    "# tabel prediksi vs realisasi hingga 21 hari yang lalu\n",
    "# p - r = negatif pertanda situasi lebih buruk daripada perkiraan\n",
    "# p - r = positif pertanda situasi lebih baik daripada perkiraan\n",
    "display_tabel_realisasi(21)"
   ]
  },
  {
   "cell_type": "code",
   "execution_count": null,
   "metadata": {},
   "outputs": [],
   "source": []
  },
  {
   "cell_type": "code",
   "execution_count": null,
   "metadata": {},
   "outputs": [],
   "source": []
  },
  {
   "cell_type": "code",
   "execution_count": null,
   "metadata": {},
   "outputs": [],
   "source": []
  }
 ],
 "metadata": {
  "kernelspec": {
   "display_name": "Python 3",
   "language": "python",
   "name": "python3"
  },
  "language_info": {
   "codemirror_mode": {
    "name": "ipython",
    "version": 3
   },
   "file_extension": ".py",
   "mimetype": "text/x-python",
   "name": "python",
   "nbconvert_exporter": "python",
   "pygments_lexer": "ipython3",
   "version": "3.7.4"
  }
 },
 "nbformat": 4,
 "nbformat_minor": 2
}
