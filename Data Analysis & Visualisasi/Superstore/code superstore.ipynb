{
 "cells": [
  {
   "cell_type": "markdown",
   "metadata": {},
   "source": [
    "# PR PYTHON \n",
    "A. buat minimum 5 insigth terbaik Anda dari kumpulan data super store <br>\n",
    "B. buatlah list customer yang mengorder Category furniture tetapi tidak order Office Supplies di 2017"
   ]
  },
  {
   "cell_type": "markdown",
   "metadata": {},
   "source": [
    "#### IMPORTING LIBRARIES"
   ]
  },
  {
   "cell_type": "code",
   "execution_count": 170,
   "metadata": {},
   "outputs": [],
   "source": [
    "import pandas as pd\n",
    "import numpy as np\n",
    "import matplotlib.pyplot as plt\n",
    "import seaborn as sns"
   ]
  },
  {
   "cell_type": "markdown",
   "metadata": {},
   "source": [
    "#### READING THE DATA "
   ]
  },
  {
   "cell_type": "code",
   "execution_count": 171,
   "metadata": {},
   "outputs": [
    {
     "data": {
      "text/html": [
       "<div>\n",
       "<style scoped>\n",
       "    .dataframe tbody tr th:only-of-type {\n",
       "        vertical-align: middle;\n",
       "    }\n",
       "\n",
       "    .dataframe tbody tr th {\n",
       "        vertical-align: top;\n",
       "    }\n",
       "\n",
       "    .dataframe thead th {\n",
       "        text-align: right;\n",
       "    }\n",
       "</style>\n",
       "<table border=\"1\" class=\"dataframe\">\n",
       "  <thead>\n",
       "    <tr style=\"text-align: right;\">\n",
       "      <th></th>\n",
       "      <th>Category</th>\n",
       "      <th>City</th>\n",
       "      <th>Country</th>\n",
       "      <th>Customer Name</th>\n",
       "      <th>Discount</th>\n",
       "      <th>Number of Records</th>\n",
       "      <th>Order Date</th>\n",
       "      <th>Order ID</th>\n",
       "      <th>Postal Code</th>\n",
       "      <th>Manufacturer</th>\n",
       "      <th>Product Name</th>\n",
       "      <th>Profit</th>\n",
       "      <th>Quantity</th>\n",
       "      <th>Region</th>\n",
       "      <th>Sales</th>\n",
       "      <th>Segment</th>\n",
       "      <th>Ship Date</th>\n",
       "      <th>Ship Mode</th>\n",
       "      <th>State</th>\n",
       "      <th>Sub-Category</th>\n",
       "    </tr>\n",
       "  </thead>\n",
       "  <tbody>\n",
       "    <tr>\n",
       "      <td>0</td>\n",
       "      <td>Furniture</td>\n",
       "      <td>Henderson</td>\n",
       "      <td>United States</td>\n",
       "      <td>Claire Gute</td>\n",
       "      <td>0.00</td>\n",
       "      <td>1</td>\n",
       "      <td>11/8/2017</td>\n",
       "      <td>CA-2017-152156</td>\n",
       "      <td>42420.0</td>\n",
       "      <td>Bush</td>\n",
       "      <td>Bush Somerset Collection Bookcase</td>\n",
       "      <td>41.9136</td>\n",
       "      <td>2</td>\n",
       "      <td>South</td>\n",
       "      <td>261.9600</td>\n",
       "      <td>Consumer</td>\n",
       "      <td>11/11/2017</td>\n",
       "      <td>Second Class</td>\n",
       "      <td>Kentucky</td>\n",
       "      <td>Bookcases</td>\n",
       "    </tr>\n",
       "    <tr>\n",
       "      <td>1</td>\n",
       "      <td>Furniture</td>\n",
       "      <td>Henderson</td>\n",
       "      <td>United States</td>\n",
       "      <td>Claire Gute</td>\n",
       "      <td>0.00</td>\n",
       "      <td>1</td>\n",
       "      <td>11/8/2017</td>\n",
       "      <td>CA-2017-152156</td>\n",
       "      <td>42420.0</td>\n",
       "      <td>Hon</td>\n",
       "      <td>Hon Deluxe Fabric Upholstered Stacking Chairs,...</td>\n",
       "      <td>219.5820</td>\n",
       "      <td>3</td>\n",
       "      <td>South</td>\n",
       "      <td>731.9400</td>\n",
       "      <td>Consumer</td>\n",
       "      <td>11/11/2017</td>\n",
       "      <td>Second Class</td>\n",
       "      <td>Kentucky</td>\n",
       "      <td>Chairs</td>\n",
       "    </tr>\n",
       "    <tr>\n",
       "      <td>2</td>\n",
       "      <td>Office Supplies</td>\n",
       "      <td>Los Angeles</td>\n",
       "      <td>United States</td>\n",
       "      <td>Darrin Van Huff</td>\n",
       "      <td>0.00</td>\n",
       "      <td>1</td>\n",
       "      <td>6/12/2017</td>\n",
       "      <td>CA-2017-138688</td>\n",
       "      <td>90036.0</td>\n",
       "      <td>Universal</td>\n",
       "      <td>Self-Adhesive Address Labels for Typewriters b...</td>\n",
       "      <td>6.8714</td>\n",
       "      <td>2</td>\n",
       "      <td>West</td>\n",
       "      <td>14.6200</td>\n",
       "      <td>Corporate</td>\n",
       "      <td>6/16/2017</td>\n",
       "      <td>Second Class</td>\n",
       "      <td>California</td>\n",
       "      <td>Labels</td>\n",
       "    </tr>\n",
       "    <tr>\n",
       "      <td>3</td>\n",
       "      <td>Furniture</td>\n",
       "      <td>Fort Lauderdale</td>\n",
       "      <td>United States</td>\n",
       "      <td>Sean O'Donnell</td>\n",
       "      <td>0.45</td>\n",
       "      <td>1</td>\n",
       "      <td>10/11/2016</td>\n",
       "      <td>US-2016-108966</td>\n",
       "      <td>33311.0</td>\n",
       "      <td>Bretford</td>\n",
       "      <td>Bretford CR4500 Series Slim Rectangular Table</td>\n",
       "      <td>-383.0310</td>\n",
       "      <td>5</td>\n",
       "      <td>South</td>\n",
       "      <td>957.5775</td>\n",
       "      <td>Consumer</td>\n",
       "      <td>10/18/2016</td>\n",
       "      <td>Standard Class</td>\n",
       "      <td>Florida</td>\n",
       "      <td>Tables</td>\n",
       "    </tr>\n",
       "    <tr>\n",
       "      <td>4</td>\n",
       "      <td>Office Supplies</td>\n",
       "      <td>Fort Lauderdale</td>\n",
       "      <td>United States</td>\n",
       "      <td>Sean O'Donnell</td>\n",
       "      <td>0.20</td>\n",
       "      <td>1</td>\n",
       "      <td>10/11/2016</td>\n",
       "      <td>US-2016-108966</td>\n",
       "      <td>33311.0</td>\n",
       "      <td>Eldon</td>\n",
       "      <td>Eldon Fold 'N Roll Cart System</td>\n",
       "      <td>2.5164</td>\n",
       "      <td>2</td>\n",
       "      <td>South</td>\n",
       "      <td>22.3680</td>\n",
       "      <td>Consumer</td>\n",
       "      <td>10/18/2016</td>\n",
       "      <td>Standard Class</td>\n",
       "      <td>Florida</td>\n",
       "      <td>Storage</td>\n",
       "    </tr>\n",
       "  </tbody>\n",
       "</table>\n",
       "</div>"
      ],
      "text/plain": [
       "          Category             City        Country    Customer Name  Discount  \\\n",
       "0        Furniture        Henderson  United States      Claire Gute      0.00   \n",
       "1        Furniture        Henderson  United States      Claire Gute      0.00   \n",
       "2  Office Supplies      Los Angeles  United States  Darrin Van Huff      0.00   \n",
       "3        Furniture  Fort Lauderdale  United States   Sean O'Donnell      0.45   \n",
       "4  Office Supplies  Fort Lauderdale  United States   Sean O'Donnell      0.20   \n",
       "\n",
       "   Number of Records  Order Date        Order ID  Postal Code Manufacturer  \\\n",
       "0                  1   11/8/2017  CA-2017-152156      42420.0         Bush   \n",
       "1                  1   11/8/2017  CA-2017-152156      42420.0          Hon   \n",
       "2                  1   6/12/2017  CA-2017-138688      90036.0    Universal   \n",
       "3                  1  10/11/2016  US-2016-108966      33311.0     Bretford   \n",
       "4                  1  10/11/2016  US-2016-108966      33311.0        Eldon   \n",
       "\n",
       "                                        Product Name    Profit  Quantity  \\\n",
       "0                  Bush Somerset Collection Bookcase   41.9136         2   \n",
       "1  Hon Deluxe Fabric Upholstered Stacking Chairs,...  219.5820         3   \n",
       "2  Self-Adhesive Address Labels for Typewriters b...    6.8714         2   \n",
       "3      Bretford CR4500 Series Slim Rectangular Table -383.0310         5   \n",
       "4                     Eldon Fold 'N Roll Cart System    2.5164         2   \n",
       "\n",
       "  Region     Sales    Segment   Ship Date       Ship Mode       State  \\\n",
       "0  South  261.9600   Consumer  11/11/2017    Second Class    Kentucky   \n",
       "1  South  731.9400   Consumer  11/11/2017    Second Class    Kentucky   \n",
       "2   West   14.6200  Corporate   6/16/2017    Second Class  California   \n",
       "3  South  957.5775   Consumer  10/18/2016  Standard Class     Florida   \n",
       "4  South   22.3680   Consumer  10/18/2016  Standard Class     Florida   \n",
       "\n",
       "  Sub-Category  \n",
       "0    Bookcases  \n",
       "1       Chairs  \n",
       "2       Labels  \n",
       "3       Tables  \n",
       "4      Storage  "
      ]
     },
     "execution_count": 171,
     "metadata": {},
     "output_type": "execute_result"
    }
   ],
   "source": [
    "df = pd.read_csv('csv/Sample_Superstore.csv')\n",
    "df.head()"
   ]
  },
  {
   "cell_type": "markdown",
   "metadata": {},
   "source": [
    "#### EXPLORASI DATA"
   ]
  },
  {
   "cell_type": "code",
   "execution_count": 172,
   "metadata": {},
   "outputs": [
    {
     "data": {
      "text/plain": [
       "(9994, 20)"
      ]
     },
     "execution_count": 172,
     "metadata": {},
     "output_type": "execute_result"
    }
   ],
   "source": [
    "## Menghitung rows dan column\n",
    "df.shape"
   ]
  },
  {
   "cell_type": "code",
   "execution_count": 173,
   "metadata": {},
   "outputs": [
    {
     "name": "stdout",
     "output_type": "stream",
     "text": [
      "<class 'pandas.core.frame.DataFrame'>\n",
      "RangeIndex: 9994 entries, 0 to 9993\n",
      "Data columns (total 20 columns):\n",
      "Category             9994 non-null object\n",
      "City                 9994 non-null object\n",
      "Country              9994 non-null object\n",
      "Customer Name        9994 non-null object\n",
      "Discount             9994 non-null float64\n",
      "Number of Records    9994 non-null int64\n",
      "Order Date           9994 non-null object\n",
      "Order ID             9994 non-null object\n",
      "Postal Code          9983 non-null float64\n",
      "Manufacturer         9994 non-null object\n",
      "Product Name         9994 non-null object\n",
      "Profit               9994 non-null float64\n",
      "Quantity             9994 non-null int64\n",
      "Region               9994 non-null object\n",
      "Sales                9994 non-null float64\n",
      "Segment              9994 non-null object\n",
      "Ship Date            9994 non-null object\n",
      "Ship Mode            9994 non-null object\n",
      "State                9994 non-null object\n",
      "Sub-Category         9994 non-null object\n",
      "dtypes: float64(4), int64(2), object(14)\n",
      "memory usage: 1.5+ MB\n"
     ]
    }
   ],
   "source": [
    "## Memeriksa type data columns of columns/attributes\n",
    "df.info()"
   ]
  },
  {
   "cell_type": "code",
   "execution_count": 174,
   "metadata": {},
   "outputs": [
    {
     "data": {
      "text/html": [
       "<div>\n",
       "<style scoped>\n",
       "    .dataframe tbody tr th:only-of-type {\n",
       "        vertical-align: middle;\n",
       "    }\n",
       "\n",
       "    .dataframe tbody tr th {\n",
       "        vertical-align: top;\n",
       "    }\n",
       "\n",
       "    .dataframe thead th {\n",
       "        text-align: right;\n",
       "    }\n",
       "</style>\n",
       "<table border=\"1\" class=\"dataframe\">\n",
       "  <thead>\n",
       "    <tr style=\"text-align: right;\">\n",
       "      <th></th>\n",
       "      <th>Discount</th>\n",
       "      <th>Number of Records</th>\n",
       "      <th>Postal Code</th>\n",
       "      <th>Profit</th>\n",
       "      <th>Quantity</th>\n",
       "      <th>Sales</th>\n",
       "    </tr>\n",
       "  </thead>\n",
       "  <tbody>\n",
       "    <tr>\n",
       "      <td>count</td>\n",
       "      <td>9994.000000</td>\n",
       "      <td>9994.0</td>\n",
       "      <td>9983.000000</td>\n",
       "      <td>9994.000000</td>\n",
       "      <td>9994.000000</td>\n",
       "      <td>9994.000000</td>\n",
       "    </tr>\n",
       "    <tr>\n",
       "      <td>mean</td>\n",
       "      <td>0.156203</td>\n",
       "      <td>1.0</td>\n",
       "      <td>55245.233297</td>\n",
       "      <td>28.656896</td>\n",
       "      <td>3.789574</td>\n",
       "      <td>229.858001</td>\n",
       "    </tr>\n",
       "    <tr>\n",
       "      <td>std</td>\n",
       "      <td>0.206452</td>\n",
       "      <td>0.0</td>\n",
       "      <td>32038.715955</td>\n",
       "      <td>234.260108</td>\n",
       "      <td>2.225110</td>\n",
       "      <td>623.245101</td>\n",
       "    </tr>\n",
       "    <tr>\n",
       "      <td>min</td>\n",
       "      <td>0.000000</td>\n",
       "      <td>1.0</td>\n",
       "      <td>1040.000000</td>\n",
       "      <td>-6599.978000</td>\n",
       "      <td>1.000000</td>\n",
       "      <td>0.444000</td>\n",
       "    </tr>\n",
       "    <tr>\n",
       "      <td>25%</td>\n",
       "      <td>0.000000</td>\n",
       "      <td>1.0</td>\n",
       "      <td>23223.000000</td>\n",
       "      <td>1.728750</td>\n",
       "      <td>2.000000</td>\n",
       "      <td>17.280000</td>\n",
       "    </tr>\n",
       "    <tr>\n",
       "      <td>50%</td>\n",
       "      <td>0.200000</td>\n",
       "      <td>1.0</td>\n",
       "      <td>57103.000000</td>\n",
       "      <td>8.666500</td>\n",
       "      <td>3.000000</td>\n",
       "      <td>54.490000</td>\n",
       "    </tr>\n",
       "    <tr>\n",
       "      <td>75%</td>\n",
       "      <td>0.200000</td>\n",
       "      <td>1.0</td>\n",
       "      <td>90008.000000</td>\n",
       "      <td>29.364000</td>\n",
       "      <td>5.000000</td>\n",
       "      <td>209.940000</td>\n",
       "    </tr>\n",
       "    <tr>\n",
       "      <td>max</td>\n",
       "      <td>0.800000</td>\n",
       "      <td>1.0</td>\n",
       "      <td>99301.000000</td>\n",
       "      <td>8399.976000</td>\n",
       "      <td>14.000000</td>\n",
       "      <td>22638.480000</td>\n",
       "    </tr>\n",
       "  </tbody>\n",
       "</table>\n",
       "</div>"
      ],
      "text/plain": [
       "          Discount  Number of Records   Postal Code       Profit     Quantity  \\\n",
       "count  9994.000000             9994.0   9983.000000  9994.000000  9994.000000   \n",
       "mean      0.156203                1.0  55245.233297    28.656896     3.789574   \n",
       "std       0.206452                0.0  32038.715955   234.260108     2.225110   \n",
       "min       0.000000                1.0   1040.000000 -6599.978000     1.000000   \n",
       "25%       0.000000                1.0  23223.000000     1.728750     2.000000   \n",
       "50%       0.200000                1.0  57103.000000     8.666500     3.000000   \n",
       "75%       0.200000                1.0  90008.000000    29.364000     5.000000   \n",
       "max       0.800000                1.0  99301.000000  8399.976000    14.000000   \n",
       "\n",
       "              Sales  \n",
       "count   9994.000000  \n",
       "mean     229.858001  \n",
       "std      623.245101  \n",
       "min        0.444000  \n",
       "25%       17.280000  \n",
       "50%       54.490000  \n",
       "75%      209.940000  \n",
       "max    22638.480000  "
      ]
     },
     "execution_count": 174,
     "metadata": {},
     "output_type": "execute_result"
    }
   ],
   "source": [
    "df.describe()"
   ]
  },
  {
   "cell_type": "code",
   "execution_count": 175,
   "metadata": {},
   "outputs": [
    {
     "data": {
      "text/plain": [
       "Category              0\n",
       "City                  0\n",
       "Country               0\n",
       "Customer Name         0\n",
       "Discount              0\n",
       "Number of Records     0\n",
       "Order Date            0\n",
       "Order ID              0\n",
       "Postal Code          11\n",
       "Manufacturer          0\n",
       "Product Name          0\n",
       "Profit                0\n",
       "Quantity              0\n",
       "Region                0\n",
       "Sales                 0\n",
       "Segment               0\n",
       "Ship Date             0\n",
       "Ship Mode             0\n",
       "State                 0\n",
       "Sub-Category          0\n",
       "dtype: int64"
      ]
     },
     "execution_count": 175,
     "metadata": {},
     "output_type": "execute_result"
    }
   ],
   "source": [
    "## Memeriksa apakah ada yang missing value\n",
    "df.isnull().sum()"
   ]
  },
  {
   "cell_type": "markdown",
   "metadata": {},
   "source": [
    "terdapat nilai null pada Postal Code sebanyak 11 "
   ]
  },
  {
   "cell_type": "code",
   "execution_count": 176,
   "metadata": {},
   "outputs": [
    {
     "data": {
      "text/html": [
       "<div>\n",
       "<style scoped>\n",
       "    .dataframe tbody tr th:only-of-type {\n",
       "        vertical-align: middle;\n",
       "    }\n",
       "\n",
       "    .dataframe tbody tr th {\n",
       "        vertical-align: top;\n",
       "    }\n",
       "\n",
       "    .dataframe thead th {\n",
       "        text-align: right;\n",
       "    }\n",
       "</style>\n",
       "<table border=\"1\" class=\"dataframe\">\n",
       "  <thead>\n",
       "    <tr style=\"text-align: right;\">\n",
       "      <th></th>\n",
       "      <th>Category</th>\n",
       "      <th>City</th>\n",
       "      <th>Country</th>\n",
       "      <th>Customer Name</th>\n",
       "      <th>Discount</th>\n",
       "      <th>Number of Records</th>\n",
       "      <th>Order Date</th>\n",
       "      <th>Order ID</th>\n",
       "      <th>Postal Code</th>\n",
       "      <th>Manufacturer</th>\n",
       "      <th>Product Name</th>\n",
       "      <th>Profit</th>\n",
       "      <th>Quantity</th>\n",
       "      <th>Region</th>\n",
       "      <th>Sales</th>\n",
       "      <th>Segment</th>\n",
       "      <th>Ship Date</th>\n",
       "      <th>Ship Mode</th>\n",
       "      <th>State</th>\n",
       "      <th>Sub-Category</th>\n",
       "    </tr>\n",
       "  </thead>\n",
       "  <tbody>\n",
       "    <tr>\n",
       "      <td>0</td>\n",
       "      <td>Furniture</td>\n",
       "      <td>Henderson</td>\n",
       "      <td>United States</td>\n",
       "      <td>Claire Gute</td>\n",
       "      <td>0.00</td>\n",
       "      <td>1</td>\n",
       "      <td>11/8/2017</td>\n",
       "      <td>CA-2017-152156</td>\n",
       "      <td>42420.0</td>\n",
       "      <td>Bush</td>\n",
       "      <td>Bush Somerset Collection Bookcase</td>\n",
       "      <td>41.9136</td>\n",
       "      <td>2</td>\n",
       "      <td>South</td>\n",
       "      <td>261.9600</td>\n",
       "      <td>Consumer</td>\n",
       "      <td>11/11/2017</td>\n",
       "      <td>Second Class</td>\n",
       "      <td>Kentucky</td>\n",
       "      <td>Bookcases</td>\n",
       "    </tr>\n",
       "    <tr>\n",
       "      <td>1</td>\n",
       "      <td>Furniture</td>\n",
       "      <td>Henderson</td>\n",
       "      <td>United States</td>\n",
       "      <td>Claire Gute</td>\n",
       "      <td>0.00</td>\n",
       "      <td>1</td>\n",
       "      <td>11/8/2017</td>\n",
       "      <td>CA-2017-152156</td>\n",
       "      <td>42420.0</td>\n",
       "      <td>Hon</td>\n",
       "      <td>Hon Deluxe Fabric Upholstered Stacking Chairs,...</td>\n",
       "      <td>219.5820</td>\n",
       "      <td>3</td>\n",
       "      <td>South</td>\n",
       "      <td>731.9400</td>\n",
       "      <td>Consumer</td>\n",
       "      <td>11/11/2017</td>\n",
       "      <td>Second Class</td>\n",
       "      <td>Kentucky</td>\n",
       "      <td>Chairs</td>\n",
       "    </tr>\n",
       "    <tr>\n",
       "      <td>2</td>\n",
       "      <td>Office Supplies</td>\n",
       "      <td>Los Angeles</td>\n",
       "      <td>United States</td>\n",
       "      <td>Darrin Van Huff</td>\n",
       "      <td>0.00</td>\n",
       "      <td>1</td>\n",
       "      <td>6/12/2017</td>\n",
       "      <td>CA-2017-138688</td>\n",
       "      <td>90036.0</td>\n",
       "      <td>Universal</td>\n",
       "      <td>Self-Adhesive Address Labels for Typewriters b...</td>\n",
       "      <td>6.8714</td>\n",
       "      <td>2</td>\n",
       "      <td>West</td>\n",
       "      <td>14.6200</td>\n",
       "      <td>Corporate</td>\n",
       "      <td>6/16/2017</td>\n",
       "      <td>Second Class</td>\n",
       "      <td>California</td>\n",
       "      <td>Labels</td>\n",
       "    </tr>\n",
       "    <tr>\n",
       "      <td>3</td>\n",
       "      <td>Furniture</td>\n",
       "      <td>Fort Lauderdale</td>\n",
       "      <td>United States</td>\n",
       "      <td>Sean O'Donnell</td>\n",
       "      <td>0.45</td>\n",
       "      <td>1</td>\n",
       "      <td>10/11/2016</td>\n",
       "      <td>US-2016-108966</td>\n",
       "      <td>33311.0</td>\n",
       "      <td>Bretford</td>\n",
       "      <td>Bretford CR4500 Series Slim Rectangular Table</td>\n",
       "      <td>-383.0310</td>\n",
       "      <td>5</td>\n",
       "      <td>South</td>\n",
       "      <td>957.5775</td>\n",
       "      <td>Consumer</td>\n",
       "      <td>10/18/2016</td>\n",
       "      <td>Standard Class</td>\n",
       "      <td>Florida</td>\n",
       "      <td>Tables</td>\n",
       "    </tr>\n",
       "    <tr>\n",
       "      <td>4</td>\n",
       "      <td>Office Supplies</td>\n",
       "      <td>Fort Lauderdale</td>\n",
       "      <td>United States</td>\n",
       "      <td>Sean O'Donnell</td>\n",
       "      <td>0.20</td>\n",
       "      <td>1</td>\n",
       "      <td>10/11/2016</td>\n",
       "      <td>US-2016-108966</td>\n",
       "      <td>33311.0</td>\n",
       "      <td>Eldon</td>\n",
       "      <td>Eldon Fold 'N Roll Cart System</td>\n",
       "      <td>2.5164</td>\n",
       "      <td>2</td>\n",
       "      <td>South</td>\n",
       "      <td>22.3680</td>\n",
       "      <td>Consumer</td>\n",
       "      <td>10/18/2016</td>\n",
       "      <td>Standard Class</td>\n",
       "      <td>Florida</td>\n",
       "      <td>Storage</td>\n",
       "    </tr>\n",
       "  </tbody>\n",
       "</table>\n",
       "</div>"
      ],
      "text/plain": [
       "          Category             City        Country    Customer Name  Discount  \\\n",
       "0        Furniture        Henderson  United States      Claire Gute      0.00   \n",
       "1        Furniture        Henderson  United States      Claire Gute      0.00   \n",
       "2  Office Supplies      Los Angeles  United States  Darrin Van Huff      0.00   \n",
       "3        Furniture  Fort Lauderdale  United States   Sean O'Donnell      0.45   \n",
       "4  Office Supplies  Fort Lauderdale  United States   Sean O'Donnell      0.20   \n",
       "\n",
       "   Number of Records  Order Date        Order ID  Postal Code Manufacturer  \\\n",
       "0                  1   11/8/2017  CA-2017-152156      42420.0         Bush   \n",
       "1                  1   11/8/2017  CA-2017-152156      42420.0          Hon   \n",
       "2                  1   6/12/2017  CA-2017-138688      90036.0    Universal   \n",
       "3                  1  10/11/2016  US-2016-108966      33311.0     Bretford   \n",
       "4                  1  10/11/2016  US-2016-108966      33311.0        Eldon   \n",
       "\n",
       "                                        Product Name    Profit  Quantity  \\\n",
       "0                  Bush Somerset Collection Bookcase   41.9136         2   \n",
       "1  Hon Deluxe Fabric Upholstered Stacking Chairs,...  219.5820         3   \n",
       "2  Self-Adhesive Address Labels for Typewriters b...    6.8714         2   \n",
       "3      Bretford CR4500 Series Slim Rectangular Table -383.0310         5   \n",
       "4                     Eldon Fold 'N Roll Cart System    2.5164         2   \n",
       "\n",
       "  Region     Sales    Segment   Ship Date       Ship Mode       State  \\\n",
       "0  South  261.9600   Consumer  11/11/2017    Second Class    Kentucky   \n",
       "1  South  731.9400   Consumer  11/11/2017    Second Class    Kentucky   \n",
       "2   West   14.6200  Corporate   6/16/2017    Second Class  California   \n",
       "3  South  957.5775   Consumer  10/18/2016  Standard Class     Florida   \n",
       "4  South   22.3680   Consumer  10/18/2016  Standard Class     Florida   \n",
       "\n",
       "  Sub-Category  \n",
       "0    Bookcases  \n",
       "1       Chairs  \n",
       "2       Labels  \n",
       "3       Tables  \n",
       "4      Storage  "
      ]
     },
     "execution_count": 176,
     "metadata": {},
     "output_type": "execute_result"
    }
   ],
   "source": [
    "## hapus niali nol \n",
    "df = df.dropna()\n",
    "df.head()"
   ]
  },
  {
   "cell_type": "code",
   "execution_count": 177,
   "metadata": {},
   "outputs": [
    {
     "data": {
      "text/plain": [
       "Category             0\n",
       "City                 0\n",
       "Country              0\n",
       "Customer Name        0\n",
       "Discount             0\n",
       "Number of Records    0\n",
       "Order Date           0\n",
       "Order ID             0\n",
       "Postal Code          0\n",
       "Manufacturer         0\n",
       "Product Name         0\n",
       "Profit               0\n",
       "Quantity             0\n",
       "Region               0\n",
       "Sales                0\n",
       "Segment              0\n",
       "Ship Date            0\n",
       "Ship Mode            0\n",
       "State                0\n",
       "Sub-Category         0\n",
       "dtype: int64"
      ]
     },
     "execution_count": 177,
     "metadata": {},
     "output_type": "execute_result"
    }
   ],
   "source": [
    "### cek kembali nilai null\n",
    "df.isnull().sum()"
   ]
  },
  {
   "cell_type": "markdown",
   "metadata": {},
   "source": [
    "Sudah tidak ada nilai null Pada Coloumn Postal Code"
   ]
  },
  {
   "cell_type": "code",
   "execution_count": 178,
   "metadata": {},
   "outputs": [
    {
     "data": {
      "text/plain": [
       "United States    9983\n",
       "Name: Country, dtype: int64"
      ]
     },
     "execution_count": 178,
     "metadata": {},
     "output_type": "execute_result"
    }
   ],
   "source": [
    "## Periksa perhitungan Country\n",
    "df['Country'].value_counts()\n"
   ]
  },
  {
   "cell_type": "markdown",
   "metadata": {},
   "source": [
    "Jelas bahwa data hanya untuk negara AS, jadi kami dapat menghapus kolom 'Negara' karena kami tidak memerlukan analisis apa pun untuk dilakukan berdasarkan data tersebut.\n",
    "\n",
    "jelas hanya ada AS, jadi dapat dihapus kolom Country, karena tidak memerlukan data tersebut "
   ]
  },
  {
   "cell_type": "code",
   "execution_count": 179,
   "metadata": {},
   "outputs": [
    {
     "data": {
      "text/html": [
       "<div>\n",
       "<style scoped>\n",
       "    .dataframe tbody tr th:only-of-type {\n",
       "        vertical-align: middle;\n",
       "    }\n",
       "\n",
       "    .dataframe tbody tr th {\n",
       "        vertical-align: top;\n",
       "    }\n",
       "\n",
       "    .dataframe thead th {\n",
       "        text-align: right;\n",
       "    }\n",
       "</style>\n",
       "<table border=\"1\" class=\"dataframe\">\n",
       "  <thead>\n",
       "    <tr style=\"text-align: right;\">\n",
       "      <th></th>\n",
       "      <th>Category</th>\n",
       "      <th>City</th>\n",
       "      <th>Customer Name</th>\n",
       "      <th>Discount</th>\n",
       "      <th>Number of Records</th>\n",
       "      <th>Order Date</th>\n",
       "      <th>Order ID</th>\n",
       "      <th>Postal Code</th>\n",
       "      <th>Manufacturer</th>\n",
       "      <th>Product Name</th>\n",
       "      <th>Profit</th>\n",
       "      <th>Quantity</th>\n",
       "      <th>Region</th>\n",
       "      <th>Sales</th>\n",
       "      <th>Segment</th>\n",
       "      <th>Ship Date</th>\n",
       "      <th>Ship Mode</th>\n",
       "      <th>State</th>\n",
       "      <th>Sub-Category</th>\n",
       "    </tr>\n",
       "  </thead>\n",
       "  <tbody>\n",
       "    <tr>\n",
       "      <td>0</td>\n",
       "      <td>Furniture</td>\n",
       "      <td>Henderson</td>\n",
       "      <td>Claire Gute</td>\n",
       "      <td>0.00</td>\n",
       "      <td>1</td>\n",
       "      <td>11/8/2017</td>\n",
       "      <td>CA-2017-152156</td>\n",
       "      <td>42420.0</td>\n",
       "      <td>Bush</td>\n",
       "      <td>Bush Somerset Collection Bookcase</td>\n",
       "      <td>41.9136</td>\n",
       "      <td>2</td>\n",
       "      <td>South</td>\n",
       "      <td>261.9600</td>\n",
       "      <td>Consumer</td>\n",
       "      <td>11/11/2017</td>\n",
       "      <td>Second Class</td>\n",
       "      <td>Kentucky</td>\n",
       "      <td>Bookcases</td>\n",
       "    </tr>\n",
       "    <tr>\n",
       "      <td>1</td>\n",
       "      <td>Furniture</td>\n",
       "      <td>Henderson</td>\n",
       "      <td>Claire Gute</td>\n",
       "      <td>0.00</td>\n",
       "      <td>1</td>\n",
       "      <td>11/8/2017</td>\n",
       "      <td>CA-2017-152156</td>\n",
       "      <td>42420.0</td>\n",
       "      <td>Hon</td>\n",
       "      <td>Hon Deluxe Fabric Upholstered Stacking Chairs,...</td>\n",
       "      <td>219.5820</td>\n",
       "      <td>3</td>\n",
       "      <td>South</td>\n",
       "      <td>731.9400</td>\n",
       "      <td>Consumer</td>\n",
       "      <td>11/11/2017</td>\n",
       "      <td>Second Class</td>\n",
       "      <td>Kentucky</td>\n",
       "      <td>Chairs</td>\n",
       "    </tr>\n",
       "    <tr>\n",
       "      <td>2</td>\n",
       "      <td>Office Supplies</td>\n",
       "      <td>Los Angeles</td>\n",
       "      <td>Darrin Van Huff</td>\n",
       "      <td>0.00</td>\n",
       "      <td>1</td>\n",
       "      <td>6/12/2017</td>\n",
       "      <td>CA-2017-138688</td>\n",
       "      <td>90036.0</td>\n",
       "      <td>Universal</td>\n",
       "      <td>Self-Adhesive Address Labels for Typewriters b...</td>\n",
       "      <td>6.8714</td>\n",
       "      <td>2</td>\n",
       "      <td>West</td>\n",
       "      <td>14.6200</td>\n",
       "      <td>Corporate</td>\n",
       "      <td>6/16/2017</td>\n",
       "      <td>Second Class</td>\n",
       "      <td>California</td>\n",
       "      <td>Labels</td>\n",
       "    </tr>\n",
       "    <tr>\n",
       "      <td>3</td>\n",
       "      <td>Furniture</td>\n",
       "      <td>Fort Lauderdale</td>\n",
       "      <td>Sean O'Donnell</td>\n",
       "      <td>0.45</td>\n",
       "      <td>1</td>\n",
       "      <td>10/11/2016</td>\n",
       "      <td>US-2016-108966</td>\n",
       "      <td>33311.0</td>\n",
       "      <td>Bretford</td>\n",
       "      <td>Bretford CR4500 Series Slim Rectangular Table</td>\n",
       "      <td>-383.0310</td>\n",
       "      <td>5</td>\n",
       "      <td>South</td>\n",
       "      <td>957.5775</td>\n",
       "      <td>Consumer</td>\n",
       "      <td>10/18/2016</td>\n",
       "      <td>Standard Class</td>\n",
       "      <td>Florida</td>\n",
       "      <td>Tables</td>\n",
       "    </tr>\n",
       "    <tr>\n",
       "      <td>4</td>\n",
       "      <td>Office Supplies</td>\n",
       "      <td>Fort Lauderdale</td>\n",
       "      <td>Sean O'Donnell</td>\n",
       "      <td>0.20</td>\n",
       "      <td>1</td>\n",
       "      <td>10/11/2016</td>\n",
       "      <td>US-2016-108966</td>\n",
       "      <td>33311.0</td>\n",
       "      <td>Eldon</td>\n",
       "      <td>Eldon Fold 'N Roll Cart System</td>\n",
       "      <td>2.5164</td>\n",
       "      <td>2</td>\n",
       "      <td>South</td>\n",
       "      <td>22.3680</td>\n",
       "      <td>Consumer</td>\n",
       "      <td>10/18/2016</td>\n",
       "      <td>Standard Class</td>\n",
       "      <td>Florida</td>\n",
       "      <td>Storage</td>\n",
       "    </tr>\n",
       "  </tbody>\n",
       "</table>\n",
       "</div>"
      ],
      "text/plain": [
       "          Category             City    Customer Name  Discount  \\\n",
       "0        Furniture        Henderson      Claire Gute      0.00   \n",
       "1        Furniture        Henderson      Claire Gute      0.00   \n",
       "2  Office Supplies      Los Angeles  Darrin Van Huff      0.00   \n",
       "3        Furniture  Fort Lauderdale   Sean O'Donnell      0.45   \n",
       "4  Office Supplies  Fort Lauderdale   Sean O'Donnell      0.20   \n",
       "\n",
       "   Number of Records  Order Date        Order ID  Postal Code Manufacturer  \\\n",
       "0                  1   11/8/2017  CA-2017-152156      42420.0         Bush   \n",
       "1                  1   11/8/2017  CA-2017-152156      42420.0          Hon   \n",
       "2                  1   6/12/2017  CA-2017-138688      90036.0    Universal   \n",
       "3                  1  10/11/2016  US-2016-108966      33311.0     Bretford   \n",
       "4                  1  10/11/2016  US-2016-108966      33311.0        Eldon   \n",
       "\n",
       "                                        Product Name    Profit  Quantity  \\\n",
       "0                  Bush Somerset Collection Bookcase   41.9136         2   \n",
       "1  Hon Deluxe Fabric Upholstered Stacking Chairs,...  219.5820         3   \n",
       "2  Self-Adhesive Address Labels for Typewriters b...    6.8714         2   \n",
       "3      Bretford CR4500 Series Slim Rectangular Table -383.0310         5   \n",
       "4                     Eldon Fold 'N Roll Cart System    2.5164         2   \n",
       "\n",
       "  Region     Sales    Segment   Ship Date       Ship Mode       State  \\\n",
       "0  South  261.9600   Consumer  11/11/2017    Second Class    Kentucky   \n",
       "1  South  731.9400   Consumer  11/11/2017    Second Class    Kentucky   \n",
       "2   West   14.6200  Corporate   6/16/2017    Second Class  California   \n",
       "3  South  957.5775   Consumer  10/18/2016  Standard Class     Florida   \n",
       "4  South   22.3680   Consumer  10/18/2016  Standard Class     Florida   \n",
       "\n",
       "  Sub-Category  \n",
       "0    Bookcases  \n",
       "1       Chairs  \n",
       "2       Labels  \n",
       "3       Tables  \n",
       "4      Storage  "
      ]
     },
     "execution_count": 179,
     "metadata": {},
     "output_type": "execute_result"
    }
   ],
   "source": [
    "## Drop country\n",
    "df = df.drop('Country', axis=1)\n",
    "df.head()"
   ]
  },
  {
   "cell_type": "markdown",
   "metadata": {},
   "source": [
    "### A. Buat Min 5 insigth pada Data Super Store"
   ]
  },
  {
   "cell_type": "markdown",
   "metadata": {},
   "source": [
    "#### 1. Product category yang tersedia untuk customer yang belanja"
   ]
  },
  {
   "cell_type": "code",
   "execution_count": 180,
   "metadata": {},
   "outputs": [
    {
     "data": {
      "text/plain": [
       "array(['Furniture', 'Office Supplies', 'Technology'], dtype=object)"
      ]
     },
     "execution_count": 180,
     "metadata": {},
     "output_type": "execute_result"
    }
   ],
   "source": [
    "df['Category'].unique()"
   ]
  },
  {
   "cell_type": "code",
   "execution_count": 181,
   "metadata": {},
   "outputs": [
    {
     "data": {
      "text/plain": [
       "Office Supplies    6020\n",
       "Furniture          2119\n",
       "Technology         1844\n",
       "Name: Category, dtype: int64"
      ]
     },
     "execution_count": 181,
     "metadata": {},
     "output_type": "execute_result"
    }
   ],
   "source": [
    "## number of product in ech category \n",
    "df['Category'].value_counts()"
   ]
  },
  {
   "cell_type": "code",
   "execution_count": 182,
   "metadata": {},
   "outputs": [
    {
     "data": {
      "text/plain": [
       "17"
      ]
     },
     "execution_count": 182,
     "metadata": {},
     "output_type": "execute_result"
    }
   ],
   "source": [
    "## number of sub-category product are divided\n",
    "df['Sub-Category'].nunique()"
   ]
  },
  {
   "cell_type": "code",
   "execution_count": 183,
   "metadata": {},
   "outputs": [
    {
     "data": {
      "text/plain": [
       "Binders        1523\n",
       "Paper          1368\n",
       "Furnishings     957\n",
       "Phones          888\n",
       "Storage         845\n",
       "Art             795\n",
       "Accessories     773\n",
       "Chairs          616\n",
       "Appliances      465\n",
       "Labels          364\n",
       "Tables          319\n",
       "Envelopes       253\n",
       "Bookcases       227\n",
       "Fasteners       217\n",
       "Supplies        190\n",
       "Machines        115\n",
       "Copiers          68\n",
       "Name: Sub-Category, dtype: int64"
      ]
     },
     "execution_count": 183,
     "metadata": {},
     "output_type": "execute_result"
    }
   ],
   "source": [
    "#number of product in ech sub-category\n",
    "df['Sub-Category'].value_counts()"
   ]
  },
  {
   "cell_type": "code",
   "execution_count": 185,
   "metadata": {},
   "outputs": [
    {
     "data": {
      "image/png": "[encoded data removed]",
      "text/plain": [
       "<Figure size 864x720 with 1 Axes>"
      ]
     },
     "metadata": {},
     "output_type": "display_data"
    },
    {
     "data": {
      "text/plain": [
       "<Figure size 432x288 with 0 Axes>"
      ]
     },
     "metadata": {},
     "output_type": "display_data"
    }
   ],
   "source": [
    "plt.figure(figsize=(12,10))\n",
    "df['Sub-Category'].value_counts().plot.pie(autopct=\"%1.1f%%\")\n",
    "plt.show()\n",
    "\n",
    "plt.savefig('fig/pieplot_tugas_python.png', tight_box=True)"
   ]
  },
  {
   "cell_type": "markdown",
   "metadata": {},
   "source": [
    "Artinya :<br>\n",
    "Dari diagram pie diatas dapat dilihat bahwa untuk barang seperti Paper dan binder memiliki ketersediaan barang terbanyak dibandingkan dengan barang yang lain. "
   ]
  },
  {
   "cell_type": "markdown",
   "metadata": {},
   "source": [
    "##### 2.  Subkategori di distribusikan ke kategori"
   ]
  },
  {
   "cell_type": "code",
   "execution_count": 132,
   "metadata": {},
   "outputs": [
    {
     "data": {
      "text/plain": [
       "Text(0.5, 1.0, 'Pendistribusian Sub-Kategori ke KAtegory')"
      ]
     },
     "execution_count": 132,
     "metadata": {},
     "output_type": "execute_result"
    },
    {
     "data": {
      "image/png": "[encoded data removed]",
      "text/plain": [
       "<Figure size 1152x576 with 1 Axes>"
      ]
     },
     "metadata": {
      "needs_background": "light"
     },
     "output_type": "display_data"
    }
   ],
   "source": [
    "# Mari kita lihat bagaimana sub-kategori didistribusikan ke kategori\n",
    "plt.figure(figsize=(16,8))\n",
    "plt.bar('Sub-Category','Category', data=df, color='indianred')\n",
    "plt.title('Pendistribusian Sub-Kategori ke KAtegory')"
   ]
  },
  {
   "cell_type": "markdown",
   "metadata": {},
   "source": [
    "Artinya : <br>Dari grafik ini, orang dapat dengan mudah melihat Kategori dan Sub-Kategori mana yang akan dipilih ketika mereka ingin membeli suatu produk"
   ]
  },
  {
   "cell_type": "markdown",
   "metadata": {},
   "source": [
    "#### 3. Membandingkan Sub-Kategori dengan Penjualan "
   ]
  },
  {
   "cell_type": "code",
   "execution_count": 133,
   "metadata": {},
   "outputs": [
    {
     "data": {
      "text/plain": [
       "<function matplotlib.pyplot.show(*args, **kw)>"
      ]
     },
     "execution_count": 133,
     "metadata": {},
     "output_type": "execute_result"
    },
    {
     "data": {
      "image/png": "[encoded data removed]",
      "text/plain": [
       "<Figure size 432x288 with 1 Axes>"
      ]
     },
     "metadata": {
      "needs_background": "light"
     },
     "output_type": "display_data"
    }
   ],
   "source": [
    "df.groupby('Sub-Category')['Profit','Sales'].agg(['sum']).plot.bar()\n",
    "plt.title('Total Profit and Sales per Sub-Category')\n",
    "\n",
    "plt.show"
   ]
  },
  {
   "cell_type": "markdown",
   "metadata": {},
   "source": [
    "Artinya : <br>Keuntungan tertinggi diperoleh di mesin fotokopi sementara harga jual untuk Kursi dan Ponsel sangat tinggi dibandingkan dengan produk lain.\n",
    "\n",
    "Fakta menarik lainnya - orang tidak suka membeli Meja dan Rak Buku dari Superstore. Karenanya departemen ini merugi."
   ]
  },
  {
   "cell_type": "markdown",
   "metadata": {},
   "source": [
    "#### 4. Menghitung Subkategori dari setiap wilayah "
   ]
  },
  {
   "cell_type": "code",
   "execution_count": 134,
   "metadata": {},
   "outputs": [
    {
     "data": {
      "text/plain": [
       "<function matplotlib.pyplot.show(*args, **kw)>"
      ]
     },
     "execution_count": 134,
     "metadata": {},
     "output_type": "execute_result"
    },
    {
     "data": {
      "image/png": "[encoded data removed]",
      "text/plain": [
       "<Figure size 1080x576 with 1 Axes>"
      ]
     },
     "metadata": {
      "needs_background": "light"
     },
     "output_type": "display_data"
    }
   ],
   "source": [
    " \n",
    "plt.figure(figsize=(15,8))\n",
    "sns.countplot(x=\"Sub-Category\", hue='Region', data=df)\n",
    "plt.show"
   ]
  },
  {
   "cell_type": "markdown",
   "metadata": {},
   "source": [
    "Orang-orang yang tinggal di bagian barat AS cenderung memesan lebih banyak dari superstore."
   ]
  },
  {
   "cell_type": "markdown",
   "metadata": {},
   "source": [
    "#### 5. Menghitung Cots dan Profit dalam Persen (%)"
   ]
  },
  {
   "cell_type": "code",
   "execution_count": 135,
   "metadata": {},
   "outputs": [
    {
     "data": {
      "text/plain": [
       "0     220.0464\n",
       "1     512.3580\n",
       "2       7.7486\n",
       "3    1340.6085\n",
       "4      19.8516\n",
       "Name: Cost, dtype: float64"
      ]
     },
     "execution_count": 135,
     "metadata": {},
     "output_type": "execute_result"
    }
   ],
   "source": [
    "df['Cost']=df['Sales'] - df['Profit']\n",
    "df['Cost'].head()"
   ]
  },
  {
   "cell_type": "code",
   "execution_count": 136,
   "metadata": {},
   "outputs": [],
   "source": [
    "df['Profit %']=(df['Profit']/df['Cost'])*100"
   ]
  },
  {
   "cell_type": "code",
   "execution_count": 137,
   "metadata": {},
   "outputs": [
    {
     "data": {
      "text/html": [
       "<div>\n",
       "<style scoped>\n",
       "    .dataframe tbody tr th:only-of-type {\n",
       "        vertical-align: middle;\n",
       "    }\n",
       "\n",
       "    .dataframe tbody tr th {\n",
       "        vertical-align: top;\n",
       "    }\n",
       "\n",
       "    .dataframe thead th {\n",
       "        text-align: right;\n",
       "    }\n",
       "</style>\n",
       "<table border=\"1\" class=\"dataframe\">\n",
       "  <thead>\n",
       "    <tr style=\"text-align: right;\">\n",
       "      <th></th>\n",
       "      <th>Product Name</th>\n",
       "      <th>Profit %</th>\n",
       "    </tr>\n",
       "  </thead>\n",
       "  <tbody>\n",
       "    <tr>\n",
       "      <td>0</td>\n",
       "      <td>Bush Somerset Collection Bookcase</td>\n",
       "      <td>19.047619</td>\n",
       "    </tr>\n",
       "    <tr>\n",
       "      <td>1</td>\n",
       "      <td>Hon Deluxe Fabric Upholstered Stacking Chairs,...</td>\n",
       "      <td>42.857143</td>\n",
       "    </tr>\n",
       "    <tr>\n",
       "      <td>2</td>\n",
       "      <td>Self-Adhesive Address Labels for Typewriters b...</td>\n",
       "      <td>88.679245</td>\n",
       "    </tr>\n",
       "    <tr>\n",
       "      <td>3</td>\n",
       "      <td>Bretford CR4500 Series Slim Rectangular Table</td>\n",
       "      <td>-28.571429</td>\n",
       "    </tr>\n",
       "    <tr>\n",
       "      <td>4</td>\n",
       "      <td>Eldon Fold 'N Roll Cart System</td>\n",
       "      <td>12.676056</td>\n",
       "    </tr>\n",
       "  </tbody>\n",
       "</table>\n",
       "</div>"
      ],
      "text/plain": [
       "                                        Product Name   Profit %\n",
       "0                  Bush Somerset Collection Bookcase  19.047619\n",
       "1  Hon Deluxe Fabric Upholstered Stacking Chairs,...  42.857143\n",
       "2  Self-Adhesive Address Labels for Typewriters b...  88.679245\n",
       "3      Bretford CR4500 Series Slim Rectangular Table -28.571429\n",
       "4                     Eldon Fold 'N Roll Cart System  12.676056"
      ]
     },
     "execution_count": 137,
     "metadata": {},
     "output_type": "execute_result"
    }
   ],
   "source": [
    "#Profit Percentage of first 5 product names\n",
    "df[['Product Name','Profit %']].head(5)"
   ]
  },
  {
   "cell_type": "code",
   "execution_count": 138,
   "metadata": {},
   "outputs": [
    {
     "data": {
      "text/html": [
       "<div>\n",
       "<style scoped>\n",
       "    .dataframe tbody tr th:only-of-type {\n",
       "        vertical-align: middle;\n",
       "    }\n",
       "\n",
       "    .dataframe tbody tr th {\n",
       "        vertical-align: top;\n",
       "    }\n",
       "\n",
       "    .dataframe thead th {\n",
       "        text-align: right;\n",
       "    }\n",
       "</style>\n",
       "<table border=\"1\" class=\"dataframe\">\n",
       "  <thead>\n",
       "    <tr style=\"text-align: right;\">\n",
       "      <th></th>\n",
       "      <th>Category</th>\n",
       "      <th>City</th>\n",
       "      <th>Customer Name</th>\n",
       "      <th>Discount</th>\n",
       "      <th>Number of Records</th>\n",
       "      <th>Order Date</th>\n",
       "      <th>Order ID</th>\n",
       "      <th>Postal Code</th>\n",
       "      <th>Manufacturer</th>\n",
       "      <th>Product Name</th>\n",
       "      <th>...</th>\n",
       "      <th>Quantity</th>\n",
       "      <th>Region</th>\n",
       "      <th>Sales</th>\n",
       "      <th>Segment</th>\n",
       "      <th>Ship Date</th>\n",
       "      <th>Ship Mode</th>\n",
       "      <th>State</th>\n",
       "      <th>Sub-Category</th>\n",
       "      <th>Cost</th>\n",
       "      <th>Profit %</th>\n",
       "    </tr>\n",
       "  </thead>\n",
       "  <tbody>\n",
       "    <tr>\n",
       "      <td>9787</td>\n",
       "      <td>Technology</td>\n",
       "      <td>Bayonne</td>\n",
       "      <td>Phillina Ober</td>\n",
       "      <td>0.0</td>\n",
       "      <td>1</td>\n",
       "      <td>9/25/2016</td>\n",
       "      <td>CA-2016-156335</td>\n",
       "      <td>7002.0</td>\n",
       "      <td>Other</td>\n",
       "      <td>netTALK DUO VoIP Telephone Service</td>\n",
       "      <td>...</td>\n",
       "      <td>2</td>\n",
       "      <td>East</td>\n",
       "      <td>104.980</td>\n",
       "      <td>Home Office</td>\n",
       "      <td>9/28/2016</td>\n",
       "      <td>Second Class</td>\n",
       "      <td>New Jersey</td>\n",
       "      <td>Phones</td>\n",
       "      <td>52.4900</td>\n",
       "      <td>100.000000</td>\n",
       "    </tr>\n",
       "    <tr>\n",
       "      <td>6736</td>\n",
       "      <td>Office Supplies</td>\n",
       "      <td>Gulfport</td>\n",
       "      <td>Henry Goldwyn</td>\n",
       "      <td>0.0</td>\n",
       "      <td>1</td>\n",
       "      <td>1/24/2017</td>\n",
       "      <td>CA-2017-109407</td>\n",
       "      <td>39503.0</td>\n",
       "      <td>XtraLife</td>\n",
       "      <td>XtraLife ClearVue Slant-D Ring Binders by Card...</td>\n",
       "      <td>...</td>\n",
       "      <td>4</td>\n",
       "      <td>South</td>\n",
       "      <td>31.360</td>\n",
       "      <td>Corporate</td>\n",
       "      <td>1/26/2017</td>\n",
       "      <td>Second Class</td>\n",
       "      <td>Mississippi</td>\n",
       "      <td>Binders</td>\n",
       "      <td>15.6800</td>\n",
       "      <td>100.000000</td>\n",
       "    </tr>\n",
       "    <tr>\n",
       "      <td>2537</td>\n",
       "      <td>Office Supplies</td>\n",
       "      <td>Seattle</td>\n",
       "      <td>Resi Pölking</td>\n",
       "      <td>0.0</td>\n",
       "      <td>1</td>\n",
       "      <td>9/13/2015</td>\n",
       "      <td>CA-2015-142769</td>\n",
       "      <td>98103.0</td>\n",
       "      <td>Xerox</td>\n",
       "      <td>Xerox 1942</td>\n",
       "      <td>...</td>\n",
       "      <td>1</td>\n",
       "      <td>West</td>\n",
       "      <td>48.940</td>\n",
       "      <td>Consumer</td>\n",
       "      <td>9/13/2015</td>\n",
       "      <td>Same Day</td>\n",
       "      <td>Washington</td>\n",
       "      <td>Paper</td>\n",
       "      <td>24.4700</td>\n",
       "      <td>100.000000</td>\n",
       "    </tr>\n",
       "    <tr>\n",
       "      <td>2966</td>\n",
       "      <td>Office Supplies</td>\n",
       "      <td>Los Angeles</td>\n",
       "      <td>Christopher Conant</td>\n",
       "      <td>0.0</td>\n",
       "      <td>1</td>\n",
       "      <td>7/7/2017</td>\n",
       "      <td>CA-2017-135265</td>\n",
       "      <td>90045.0</td>\n",
       "      <td>Xerox</td>\n",
       "      <td>Xerox 1942</td>\n",
       "      <td>...</td>\n",
       "      <td>1</td>\n",
       "      <td>West</td>\n",
       "      <td>48.940</td>\n",
       "      <td>Consumer</td>\n",
       "      <td>7/9/2017</td>\n",
       "      <td>Second Class</td>\n",
       "      <td>California</td>\n",
       "      <td>Paper</td>\n",
       "      <td>24.4700</td>\n",
       "      <td>100.000000</td>\n",
       "    </tr>\n",
       "    <tr>\n",
       "      <td>7182</td>\n",
       "      <td>Office Supplies</td>\n",
       "      <td>Clinton</td>\n",
       "      <td>Odella Nelson</td>\n",
       "      <td>0.0</td>\n",
       "      <td>1</td>\n",
       "      <td>12/2/2015</td>\n",
       "      <td>CA-2015-154095</td>\n",
       "      <td>20735.0</td>\n",
       "      <td>Xerox</td>\n",
       "      <td>Xerox 1942</td>\n",
       "      <td>...</td>\n",
       "      <td>3</td>\n",
       "      <td>East</td>\n",
       "      <td>146.820</td>\n",
       "      <td>Corporate</td>\n",
       "      <td>12/7/2015</td>\n",
       "      <td>Standard Class</td>\n",
       "      <td>Maryland</td>\n",
       "      <td>Paper</td>\n",
       "      <td>73.4100</td>\n",
       "      <td>100.000000</td>\n",
       "    </tr>\n",
       "    <tr>\n",
       "      <td>...</td>\n",
       "      <td>...</td>\n",
       "      <td>...</td>\n",
       "      <td>...</td>\n",
       "      <td>...</td>\n",
       "      <td>...</td>\n",
       "      <td>...</td>\n",
       "      <td>...</td>\n",
       "      <td>...</td>\n",
       "      <td>...</td>\n",
       "      <td>...</td>\n",
       "      <td>...</td>\n",
       "      <td>...</td>\n",
       "      <td>...</td>\n",
       "      <td>...</td>\n",
       "      <td>...</td>\n",
       "      <td>...</td>\n",
       "      <td>...</td>\n",
       "      <td>...</td>\n",
       "      <td>...</td>\n",
       "      <td>...</td>\n",
       "      <td>...</td>\n",
       "    </tr>\n",
       "    <tr>\n",
       "      <td>7095</td>\n",
       "      <td>Office Supplies</td>\n",
       "      <td>Austin</td>\n",
       "      <td>Cynthia Voltz</td>\n",
       "      <td>0.8</td>\n",
       "      <td>1</td>\n",
       "      <td>5/9/2017</td>\n",
       "      <td>US-2017-144057</td>\n",
       "      <td>78745.0</td>\n",
       "      <td>Euro Pro</td>\n",
       "      <td>Euro Pro Shark Stick Mini Vacuum</td>\n",
       "      <td>...</td>\n",
       "      <td>4</td>\n",
       "      <td>Central</td>\n",
       "      <td>48.784</td>\n",
       "      <td>Corporate</td>\n",
       "      <td>5/13/2017</td>\n",
       "      <td>Standard Class</td>\n",
       "      <td>Texas</td>\n",
       "      <td>Appliances</td>\n",
       "      <td>180.5008</td>\n",
       "      <td>-72.972973</td>\n",
       "    </tr>\n",
       "    <tr>\n",
       "      <td>7088</td>\n",
       "      <td>Office Supplies</td>\n",
       "      <td>Fort Worth</td>\n",
       "      <td>Brenda Bowman</td>\n",
       "      <td>0.8</td>\n",
       "      <td>1</td>\n",
       "      <td>11/21/2016</td>\n",
       "      <td>CA-2016-107083</td>\n",
       "      <td>76106.0</td>\n",
       "      <td>Kensington</td>\n",
       "      <td>Kensington 6 Outlet SmartSocket Surge Protector</td>\n",
       "      <td>...</td>\n",
       "      <td>3</td>\n",
       "      <td>Central</td>\n",
       "      <td>24.588</td>\n",
       "      <td>Corporate</td>\n",
       "      <td>11/27/2016</td>\n",
       "      <td>Standard Class</td>\n",
       "      <td>Texas</td>\n",
       "      <td>Appliances</td>\n",
       "      <td>92.2050</td>\n",
       "      <td>-73.333333</td>\n",
       "    </tr>\n",
       "    <tr>\n",
       "      <td>3463</td>\n",
       "      <td>Office Supplies</td>\n",
       "      <td>Chicago</td>\n",
       "      <td>Maureen Gnade</td>\n",
       "      <td>0.8</td>\n",
       "      <td>1</td>\n",
       "      <td>6/8/2016</td>\n",
       "      <td>CA-2016-164007</td>\n",
       "      <td>60610.0</td>\n",
       "      <td>Hoover</td>\n",
       "      <td>Hoover Shoulder Vac Commercial Portable Vacuum</td>\n",
       "      <td>...</td>\n",
       "      <td>2</td>\n",
       "      <td>Central</td>\n",
       "      <td>143.128</td>\n",
       "      <td>Consumer</td>\n",
       "      <td>6/12/2016</td>\n",
       "      <td>Standard Class</td>\n",
       "      <td>Illinois</td>\n",
       "      <td>Appliances</td>\n",
       "      <td>536.7300</td>\n",
       "      <td>-73.333333</td>\n",
       "    </tr>\n",
       "    <tr>\n",
       "      <td>676</td>\n",
       "      <td>Office Supplies</td>\n",
       "      <td>Tyler</td>\n",
       "      <td>Carol Darley</td>\n",
       "      <td>0.8</td>\n",
       "      <td>1</td>\n",
       "      <td>3/18/2018</td>\n",
       "      <td>US-2018-119438</td>\n",
       "      <td>75701.0</td>\n",
       "      <td>Hoover</td>\n",
       "      <td>Hoover Portapower Portable Vacuum</td>\n",
       "      <td>...</td>\n",
       "      <td>3</td>\n",
       "      <td>Central</td>\n",
       "      <td>2.688</td>\n",
       "      <td>Consumer</td>\n",
       "      <td>3/23/2018</td>\n",
       "      <td>Standard Class</td>\n",
       "      <td>Texas</td>\n",
       "      <td>Appliances</td>\n",
       "      <td>10.0800</td>\n",
       "      <td>-73.333333</td>\n",
       "    </tr>\n",
       "    <tr>\n",
       "      <td>261</td>\n",
       "      <td>Office Supplies</td>\n",
       "      <td>Pasadena</td>\n",
       "      <td>Dorris liebe</td>\n",
       "      <td>0.8</td>\n",
       "      <td>1</td>\n",
       "      <td>6/8/2018</td>\n",
       "      <td>US-2018-155299</td>\n",
       "      <td>77506.0</td>\n",
       "      <td>Eureka</td>\n",
       "      <td>Eureka Disposable Bags for Sanitaire Vibra Gro...</td>\n",
       "      <td>...</td>\n",
       "      <td>2</td>\n",
       "      <td>Central</td>\n",
       "      <td>1.624</td>\n",
       "      <td>Corporate</td>\n",
       "      <td>6/12/2018</td>\n",
       "      <td>Standard Class</td>\n",
       "      <td>Texas</td>\n",
       "      <td>Appliances</td>\n",
       "      <td>6.0900</td>\n",
       "      <td>-73.333333</td>\n",
       "    </tr>\n",
       "  </tbody>\n",
       "</table>\n",
       "<p>9624 rows × 21 columns</p>\n",
       "</div>"
      ],
      "text/plain": [
       "             Category         City       Customer Name  Discount  \\\n",
       "9787       Technology      Bayonne       Phillina Ober       0.0   \n",
       "6736  Office Supplies     Gulfport       Henry Goldwyn       0.0   \n",
       "2537  Office Supplies      Seattle        Resi Pölking       0.0   \n",
       "2966  Office Supplies  Los Angeles  Christopher Conant       0.0   \n",
       "7182  Office Supplies      Clinton       Odella Nelson       0.0   \n",
       "...               ...          ...                 ...       ...   \n",
       "7095  Office Supplies       Austin       Cynthia Voltz       0.8   \n",
       "7088  Office Supplies   Fort Worth       Brenda Bowman       0.8   \n",
       "3463  Office Supplies      Chicago       Maureen Gnade       0.8   \n",
       "676   Office Supplies        Tyler        Carol Darley       0.8   \n",
       "261   Office Supplies     Pasadena        Dorris liebe       0.8   \n",
       "\n",
       "      Number of Records  Order Date        Order ID  Postal Code Manufacturer  \\\n",
       "9787                  1   9/25/2016  CA-2016-156335       7002.0        Other   \n",
       "6736                  1   1/24/2017  CA-2017-109407      39503.0     XtraLife   \n",
       "2537                  1   9/13/2015  CA-2015-142769      98103.0        Xerox   \n",
       "2966                  1    7/7/2017  CA-2017-135265      90045.0        Xerox   \n",
       "7182                  1   12/2/2015  CA-2015-154095      20735.0        Xerox   \n",
       "...                 ...         ...             ...          ...          ...   \n",
       "7095                  1    5/9/2017  US-2017-144057      78745.0     Euro Pro   \n",
       "7088                  1  11/21/2016  CA-2016-107083      76106.0   Kensington   \n",
       "3463                  1    6/8/2016  CA-2016-164007      60610.0       Hoover   \n",
       "676                   1   3/18/2018  US-2018-119438      75701.0       Hoover   \n",
       "261                   1    6/8/2018  US-2018-155299      77506.0       Eureka   \n",
       "\n",
       "                                           Product Name  ...  Quantity  \\\n",
       "9787                 netTALK DUO VoIP Telephone Service  ...         2   \n",
       "6736  XtraLife ClearVue Slant-D Ring Binders by Card...  ...         4   \n",
       "2537                                         Xerox 1942  ...         1   \n",
       "2966                                         Xerox 1942  ...         1   \n",
       "7182                                         Xerox 1942  ...         3   \n",
       "...                                                 ...  ...       ...   \n",
       "7095                   Euro Pro Shark Stick Mini Vacuum  ...         4   \n",
       "7088    Kensington 6 Outlet SmartSocket Surge Protector  ...         3   \n",
       "3463     Hoover Shoulder Vac Commercial Portable Vacuum  ...         2   \n",
       "676                   Hoover Portapower Portable Vacuum  ...         3   \n",
       "261   Eureka Disposable Bags for Sanitaire Vibra Gro...  ...         2   \n",
       "\n",
       "       Region    Sales      Segment   Ship Date       Ship Mode        State  \\\n",
       "9787     East  104.980  Home Office   9/28/2016    Second Class   New Jersey   \n",
       "6736    South   31.360    Corporate   1/26/2017    Second Class  Mississippi   \n",
       "2537     West   48.940     Consumer   9/13/2015        Same Day   Washington   \n",
       "2966     West   48.940     Consumer    7/9/2017    Second Class   California   \n",
       "7182     East  146.820    Corporate   12/7/2015  Standard Class     Maryland   \n",
       "...       ...      ...          ...         ...             ...          ...   \n",
       "7095  Central   48.784    Corporate   5/13/2017  Standard Class        Texas   \n",
       "7088  Central   24.588    Corporate  11/27/2016  Standard Class        Texas   \n",
       "3463  Central  143.128     Consumer   6/12/2016  Standard Class     Illinois   \n",
       "676   Central    2.688     Consumer   3/23/2018  Standard Class        Texas   \n",
       "261   Central    1.624    Corporate   6/12/2018  Standard Class        Texas   \n",
       "\n",
       "     Sub-Category      Cost    Profit %  \n",
       "9787       Phones   52.4900  100.000000  \n",
       "6736      Binders   15.6800  100.000000  \n",
       "2537        Paper   24.4700  100.000000  \n",
       "2966        Paper   24.4700  100.000000  \n",
       "7182        Paper   73.4100  100.000000  \n",
       "...           ...       ...         ...  \n",
       "7095   Appliances  180.5008  -72.972973  \n",
       "7088   Appliances   92.2050  -73.333333  \n",
       "3463   Appliances  536.7300  -73.333333  \n",
       "676    Appliances   10.0800  -73.333333  \n",
       "261    Appliances    6.0900  -73.333333  \n",
       "\n",
       "[9624 rows x 21 columns]"
      ]
     },
     "execution_count": 138,
     "metadata": {},
     "output_type": "execute_result"
    }
   ],
   "source": [
    "#Product with high profit percentage\n",
    "df.sort_values(['Profit %', 'Product Name'], ascending = False).groupby('Profit').head(5)"
   ]
  },
  {
   "cell_type": "markdown",
   "metadata": {},
   "source": [
    "Artinya : <br>Retailers yang menjual Telepon, binder dan Papers telah mendapat Untung 100% dalam Bisnis mereka."
   ]
  },
  {
   "cell_type": "markdown",
   "metadata": {},
   "source": [
    "#### 6. Menghitung Data Customers Nama 10 Teratas"
   ]
  },
  {
   "cell_type": "code",
   "execution_count": 139,
   "metadata": {},
   "outputs": [
    {
     "data": {
      "text/plain": [
       "William Brown          37\n",
       "Paul Prost             34\n",
       "John Lee               34\n",
       "Matt Abelman           34\n",
       "Edward Hooks           32\n",
       "Seth Vernon            32\n",
       "Chloris Kastensmidt    32\n",
       "Jonathan Doherty       32\n",
       "Arthur Prichep         31\n",
       "Emily Phan             31\n",
       "Name: Customer Name, dtype: int64"
      ]
     },
     "execution_count": 139,
     "metadata": {},
     "output_type": "execute_result"
    }
   ],
   "source": [
    "#Top 10 customers who order frequently\n",
    "df_top10=df['Customer Name'].value_counts().head(10)\n",
    "df_top10"
   ]
  },
  {
   "cell_type": "markdown",
   "metadata": {},
   "source": [
    "#### 7. Menghitung Data Segment"
   ]
  },
  {
   "cell_type": "code",
   "execution_count": 140,
   "metadata": {},
   "outputs": [
    {
     "data": {
      "image/png": "[encoded data removed]",
      "text/plain": [
       "<Figure size 720x576 with 1 Axes>"
      ]
     },
     "metadata": {
      "needs_background": "light"
     },
     "output_type": "display_data"
    }
   ],
   "source": [
    "fig=plt.figure(figsize=(10,8))\n",
    "ax = fig.add_subplot(111)\n",
    "s=sns.countplot('Segment', data = df)\n",
    "for s in ax.patches:\n",
    "    ax.annotate('{:.0f}'.format(s.get_height()), (s.get_x()+0.15, s.get_height()+1))\n",
    "plt.show()"
   ]
  },
  {
   "cell_type": "markdown",
   "metadata": {},
   "source": [
    "Artinya :<br>Distribusi tertinggi di Segmen Konsumen."
   ]
  },
  {
   "cell_type": "markdown",
   "metadata": {},
   "source": [
    "#### 8. Menghitung Customer  yang Menguntungkan di setiap negara "
   ]
  },
  {
   "cell_type": "code",
   "execution_count": 141,
   "metadata": {},
   "outputs": [
    {
     "data": {
      "text/plain": [
       "0        Claire Gute\n",
       "1        Claire Gute\n",
       "2    Darrin Van Huff\n",
       "3     Sean O'Donnell\n",
       "4     Sean O'Donnell\n",
       "Name: Customer Name, dtype: object"
      ]
     },
     "execution_count": 141,
     "metadata": {},
     "output_type": "execute_result"
    }
   ],
   "source": [
    "df['Customer Name'].head()"
   ]
  },
  {
   "cell_type": "code",
   "execution_count": 142,
   "metadata": {},
   "outputs": [
    {
     "data": {
      "image/png": "[encoded data removed]",
      "text/plain": [
       "<Figure size 864x576 with 1 Axes>"
      ]
     },
     "metadata": {
      "needs_background": "light"
     },
     "output_type": "display_data"
    }
   ],
   "source": [
    "\n",
    "sortedTop20 = df.sort_values(['Profit'], ascending=False).head(20)\n",
    "fig = plt.figure(figsize=(12,8))\n",
    "ax = fig.add_subplot(111)\n",
    "p = sns.barplot(x='Customer Name', y='Profit',hue='State',palette='Set1', data=sortedTop20, ax=ax)\n",
    "ax.set_title(\"Top 20 profitable Customers\")\n",
    "\n",
    "ax.set_xticklabels(p.get_xticklabels(), rotation=75)\n",
    "\n",
    "plt.tight_layout()\n",
    "plt.show()"
   ]
  },
  {
   "cell_type": "markdown",
   "metadata": {},
   "source": [
    "Artinya :<br> Kami melihat bahwa mayoritas Pelanggan yang Menguntungkan berasal dari Negara Bagian New York dan Michigan."
   ]
  },
  {
   "cell_type": "markdown",
   "metadata": {},
   "source": [
    "#### 9. Top20 oldest Customer"
   ]
  },
  {
   "cell_type": "code",
   "execution_count": 143,
   "metadata": {},
   "outputs": [],
   "source": [
    "oldest = pd.DataFrame({'Count' : df.groupby([\"Order Date\",\"Customer Name\"]).size()}).reset_index()"
   ]
  },
  {
   "cell_type": "code",
   "execution_count": 144,
   "metadata": {},
   "outputs": [
    {
     "data": {
      "text/html": [
       "<div>\n",
       "<style scoped>\n",
       "    .dataframe tbody tr th:only-of-type {\n",
       "        vertical-align: middle;\n",
       "    }\n",
       "\n",
       "    .dataframe tbody tr th {\n",
       "        vertical-align: top;\n",
       "    }\n",
       "\n",
       "    .dataframe thead th {\n",
       "        text-align: right;\n",
       "    }\n",
       "</style>\n",
       "<table border=\"1\" class=\"dataframe\">\n",
       "  <thead>\n",
       "    <tr style=\"text-align: right;\">\n",
       "      <th></th>\n",
       "      <th>Order Date</th>\n",
       "      <th>Customer Name</th>\n",
       "      <th>Count</th>\n",
       "    </tr>\n",
       "  </thead>\n",
       "  <tbody>\n",
       "    <tr>\n",
       "      <td>0</td>\n",
       "      <td>1/1/2018</td>\n",
       "      <td>Dennis Pardue</td>\n",
       "      <td>1</td>\n",
       "    </tr>\n",
       "    <tr>\n",
       "      <td>1</td>\n",
       "      <td>1/1/2018</td>\n",
       "      <td>Guy Armstrong</td>\n",
       "      <td>1</td>\n",
       "    </tr>\n",
       "    <tr>\n",
       "      <td>2</td>\n",
       "      <td>1/1/2018</td>\n",
       "      <td>Janet Martin</td>\n",
       "      <td>7</td>\n",
       "    </tr>\n",
       "    <tr>\n",
       "      <td>3</td>\n",
       "      <td>1/1/2018</td>\n",
       "      <td>Steven Cartwright</td>\n",
       "      <td>1</td>\n",
       "    </tr>\n",
       "    <tr>\n",
       "      <td>4</td>\n",
       "      <td>1/10/2015</td>\n",
       "      <td>Anthony Jacobs</td>\n",
       "      <td>2</td>\n",
       "    </tr>\n",
       "    <tr>\n",
       "      <td>5</td>\n",
       "      <td>1/10/2016</td>\n",
       "      <td>Michael Moore</td>\n",
       "      <td>1</td>\n",
       "    </tr>\n",
       "    <tr>\n",
       "      <td>6</td>\n",
       "      <td>1/10/2017</td>\n",
       "      <td>Joy Bell-</td>\n",
       "      <td>1</td>\n",
       "    </tr>\n",
       "    <tr>\n",
       "      <td>7</td>\n",
       "      <td>1/10/2017</td>\n",
       "      <td>Ken Black</td>\n",
       "      <td>2</td>\n",
       "    </tr>\n",
       "    <tr>\n",
       "      <td>8</td>\n",
       "      <td>1/11/2015</td>\n",
       "      <td>Seth Vernon</td>\n",
       "      <td>1</td>\n",
       "    </tr>\n",
       "    <tr>\n",
       "      <td>9</td>\n",
       "      <td>1/11/2017</td>\n",
       "      <td>Deanra Eno</td>\n",
       "      <td>3</td>\n",
       "    </tr>\n",
       "    <tr>\n",
       "      <td>10</td>\n",
       "      <td>1/11/2017</td>\n",
       "      <td>Mark Packer</td>\n",
       "      <td>1</td>\n",
       "    </tr>\n",
       "    <tr>\n",
       "      <td>11</td>\n",
       "      <td>1/12/2016</td>\n",
       "      <td>Cindy Schnelling</td>\n",
       "      <td>5</td>\n",
       "    </tr>\n",
       "    <tr>\n",
       "      <td>12</td>\n",
       "      <td>1/12/2016</td>\n",
       "      <td>Yana Sorensen</td>\n",
       "      <td>1</td>\n",
       "    </tr>\n",
       "    <tr>\n",
       "      <td>13</td>\n",
       "      <td>1/12/2018</td>\n",
       "      <td>David Bremer</td>\n",
       "      <td>1</td>\n",
       "    </tr>\n",
       "    <tr>\n",
       "      <td>14</td>\n",
       "      <td>1/12/2018</td>\n",
       "      <td>Dianna Arnett</td>\n",
       "      <td>2</td>\n",
       "    </tr>\n",
       "    <tr>\n",
       "      <td>15</td>\n",
       "      <td>1/12/2018</td>\n",
       "      <td>Linda Southworth</td>\n",
       "      <td>1</td>\n",
       "    </tr>\n",
       "    <tr>\n",
       "      <td>16</td>\n",
       "      <td>1/13/2015</td>\n",
       "      <td>Brian Dahlen</td>\n",
       "      <td>3</td>\n",
       "    </tr>\n",
       "    <tr>\n",
       "      <td>17</td>\n",
       "      <td>1/13/2015</td>\n",
       "      <td>Chris Selesnick</td>\n",
       "      <td>5</td>\n",
       "    </tr>\n",
       "    <tr>\n",
       "      <td>18</td>\n",
       "      <td>1/13/2015</td>\n",
       "      <td>Michael Moore</td>\n",
       "      <td>2</td>\n",
       "    </tr>\n",
       "    <tr>\n",
       "      <td>19</td>\n",
       "      <td>1/13/2015</td>\n",
       "      <td>Natalie DeCherney</td>\n",
       "      <td>1</td>\n",
       "    </tr>\n",
       "  </tbody>\n",
       "</table>\n",
       "</div>"
      ],
      "text/plain": [
       "   Order Date      Customer Name  Count\n",
       "0    1/1/2018      Dennis Pardue      1\n",
       "1    1/1/2018      Guy Armstrong      1\n",
       "2    1/1/2018       Janet Martin      7\n",
       "3    1/1/2018  Steven Cartwright      1\n",
       "4   1/10/2015     Anthony Jacobs      2\n",
       "5   1/10/2016      Michael Moore      1\n",
       "6   1/10/2017          Joy Bell-      1\n",
       "7   1/10/2017          Ken Black      2\n",
       "8   1/11/2015        Seth Vernon      1\n",
       "9   1/11/2017         Deanra Eno      3\n",
       "10  1/11/2017        Mark Packer      1\n",
       "11  1/12/2016   Cindy Schnelling      5\n",
       "12  1/12/2016      Yana Sorensen      1\n",
       "13  1/12/2018       David Bremer      1\n",
       "14  1/12/2018      Dianna Arnett      2\n",
       "15  1/12/2018   Linda Southworth      1\n",
       "16  1/13/2015       Brian Dahlen      3\n",
       "17  1/13/2015    Chris Selesnick      5\n",
       "18  1/13/2015      Michael Moore      2\n",
       "19  1/13/2015  Natalie DeCherney      1"
      ]
     },
     "execution_count": 144,
     "metadata": {},
     "output_type": "execute_result"
    }
   ],
   "source": [
    "oldest.head(20)"
   ]
  },
  {
   "cell_type": "markdown",
   "metadata": {},
   "source": [
    "Artinya :<br> customer tertua adalah Dennis Perdue, Guy Amstrong, Steven Cartwright\t,Michael Moore\t,Joy Bell-\t,Seth Vernon,Mark Packer,Linda Southworth\t"
   ]
  },
  {
   "cell_type": "markdown",
   "metadata": {},
   "source": [
    "#### 10. Hubungan antara Sales dan Profit"
   ]
  },
  {
   "cell_type": "code",
   "execution_count": 145,
   "metadata": {},
   "outputs": [
    {
     "data": {
      "image/png": "[encoded data removed]",
      "text/plain": [
       "<Figure size 432x288 with 1 Axes>"
      ]
     },
     "metadata": {
      "needs_background": "light"
     },
     "output_type": "display_data"
    }
   ],
   "source": [
    "\n",
    "regionwiseSalesAndProfit = df.groupby(\"Region\").agg({\"Sales\":np.sum, \"Profit\": np.sum})\n",
    "regionwiseSalesAndProfit\n",
    "fig = plt.figure(figsize=(6,4))\n",
    "ax = fig.add_subplot(111)\n",
    "p = sns.scatterplot(x=\"Sales\", y=\"Profit\", hue=regionwiseSalesAndProfit.index, data=regionwiseSalesAndProfit) # kind=\"scatter\")\n",
    "ax.set_title(\"Relationship between Sales and Profit by Region\")\n",
    "plt.tight_layout()\n",
    "plt.show()"
   ]
  },
  {
   "cell_type": "markdown",
   "metadata": {},
   "source": [
    "Artinya: <br> Penjualan yang sangat menguntungkan berada pada daerah barat."
   ]
  },
  {
   "cell_type": "code",
   "execution_count": 146,
   "metadata": {},
   "outputs": [
    {
     "data": {
      "text/html": [
       "<div>\n",
       "<style scoped>\n",
       "    .dataframe tbody tr th:only-of-type {\n",
       "        vertical-align: middle;\n",
       "    }\n",
       "\n",
       "    .dataframe tbody tr th {\n",
       "        vertical-align: top;\n",
       "    }\n",
       "\n",
       "    .dataframe thead th {\n",
       "        text-align: right;\n",
       "    }\n",
       "</style>\n",
       "<table border=\"1\" class=\"dataframe\">\n",
       "  <thead>\n",
       "    <tr style=\"text-align: right;\">\n",
       "      <th></th>\n",
       "      <th>Customer Name</th>\n",
       "      <th>Profit</th>\n",
       "    </tr>\n",
       "  </thead>\n",
       "  <tbody>\n",
       "    <tr>\n",
       "      <td>8093</td>\n",
       "      <td>Tamara Chand</td>\n",
       "      <td>8399.9760</td>\n",
       "    </tr>\n",
       "    <tr>\n",
       "      <td>4905</td>\n",
       "      <td>Raymond Buch</td>\n",
       "      <td>6719.9808</td>\n",
       "    </tr>\n",
       "    <tr>\n",
       "      <td>5297</td>\n",
       "      <td>Hunter Lopez</td>\n",
       "      <td>5039.9856</td>\n",
       "    </tr>\n",
       "    <tr>\n",
       "      <td>3273</td>\n",
       "      <td>Adrian Barton</td>\n",
       "      <td>4946.3700</td>\n",
       "    </tr>\n",
       "    <tr>\n",
       "      <td>3232</td>\n",
       "      <td>Sanjit Chand</td>\n",
       "      <td>4630.4755</td>\n",
       "    </tr>\n",
       "    <tr>\n",
       "      <td>9707</td>\n",
       "      <td>Tom Ashbrook</td>\n",
       "      <td>3919.9888</td>\n",
       "    </tr>\n",
       "    <tr>\n",
       "      <td>509</td>\n",
       "      <td>Christopher Martinez</td>\n",
       "      <td>3177.4750</td>\n",
       "    </tr>\n",
       "    <tr>\n",
       "      <td>5083</td>\n",
       "      <td>Sanjit Engle</td>\n",
       "      <td>2799.9840</td>\n",
       "    </tr>\n",
       "    <tr>\n",
       "      <td>9888</td>\n",
       "      <td>Daniel Raglin</td>\n",
       "      <td>2591.9568</td>\n",
       "    </tr>\n",
       "    <tr>\n",
       "      <td>2627</td>\n",
       "      <td>Andy Reiter</td>\n",
       "      <td>2504.2216</td>\n",
       "    </tr>\n",
       "    <tr>\n",
       "      <td>5333</td>\n",
       "      <td>Karen Daniels</td>\n",
       "      <td>2400.9657</td>\n",
       "    </tr>\n",
       "    <tr>\n",
       "      <td>8179</td>\n",
       "      <td>Bill Shonely</td>\n",
       "      <td>2365.9818</td>\n",
       "    </tr>\n",
       "    <tr>\n",
       "      <td>8097</td>\n",
       "      <td>Harry Marie</td>\n",
       "      <td>2302.9671</td>\n",
       "    </tr>\n",
       "    <tr>\n",
       "      <td>5314</td>\n",
       "      <td>Tom Boeckenhauer</td>\n",
       "      <td>2239.9872</td>\n",
       "    </tr>\n",
       "    <tr>\n",
       "      <td>7960</td>\n",
       "      <td>Keith Dawkins</td>\n",
       "      <td>2229.0240</td>\n",
       "    </tr>\n",
       "    <tr>\n",
       "      <td>318</td>\n",
       "      <td>Nathan Mautz</td>\n",
       "      <td>1995.9900</td>\n",
       "    </tr>\n",
       "    <tr>\n",
       "      <td>8708</td>\n",
       "      <td>Shirley Daniels</td>\n",
       "      <td>1906.4850</td>\n",
       "    </tr>\n",
       "    <tr>\n",
       "      <td>7830</td>\n",
       "      <td>Jane Waco</td>\n",
       "      <td>1906.4850</td>\n",
       "    </tr>\n",
       "    <tr>\n",
       "      <td>9882</td>\n",
       "      <td>Steven Roelle</td>\n",
       "      <td>1668.2050</td>\n",
       "    </tr>\n",
       "    <tr>\n",
       "      <td>9058</td>\n",
       "      <td>Dennis Pardue</td>\n",
       "      <td>1644.2913</td>\n",
       "    </tr>\n",
       "  </tbody>\n",
       "</table>\n",
       "</div>"
      ],
      "text/plain": [
       "             Customer Name     Profit\n",
       "8093          Tamara Chand  8399.9760\n",
       "4905          Raymond Buch  6719.9808\n",
       "5297          Hunter Lopez  5039.9856\n",
       "3273         Adrian Barton  4946.3700\n",
       "3232          Sanjit Chand  4630.4755\n",
       "9707          Tom Ashbrook  3919.9888\n",
       "509   Christopher Martinez  3177.4750\n",
       "5083          Sanjit Engle  2799.9840\n",
       "9888         Daniel Raglin  2591.9568\n",
       "2627           Andy Reiter  2504.2216\n",
       "5333         Karen Daniels  2400.9657\n",
       "8179          Bill Shonely  2365.9818\n",
       "8097           Harry Marie  2302.9671\n",
       "5314      Tom Boeckenhauer  2239.9872\n",
       "7960         Keith Dawkins  2229.0240\n",
       "318           Nathan Mautz  1995.9900\n",
       "8708       Shirley Daniels  1906.4850\n",
       "7830             Jane Waco  1906.4850\n",
       "9882         Steven Roelle  1668.2050\n",
       "9058         Dennis Pardue  1644.2913"
      ]
     },
     "execution_count": 146,
     "metadata": {},
     "output_type": "execute_result"
    }
   ],
   "source": [
    "x = df.sort_values('Profit', ascending=False)\n",
    "top20 = x.head(20)\n",
    "top20[['Customer Name', 'Profit']] "
   ]
  },
  {
   "cell_type": "code",
   "execution_count": 147,
   "metadata": {},
   "outputs": [
    {
     "data": {
      "text/plain": [
       "<matplotlib.axes._subplots.AxesSubplot at 0x1ddc22dadc8>"
      ]
     },
     "execution_count": 147,
     "metadata": {},
     "output_type": "execute_result"
    },
    {
     "data": {
      "image/png": "[encoded data removed]",
      "text/plain": [
       "<Figure size 432x288 with 1 Axes>"
      ]
     },
     "metadata": {
      "needs_background": "light"
     },
     "output_type": "display_data"
    }
   ],
   "source": [
    "sns.barplot(x = \"Profit\", y= \"Customer Name\", data=top20)"
   ]
  },
  {
   "cell_type": "markdown",
   "metadata": {},
   "source": [
    "Artinya :<br> hasil penjualan yang sangat menguntungkan adalah kepada Tamara Chand dengan pendapatan sebesar $8399.9760"
   ]
  },
  {
   "cell_type": "markdown",
   "metadata": {},
   "source": [
    "##### Menghitung Diskount Yang Paling Tinggi"
   ]
  },
  {
   "cell_type": "code",
   "execution_count": 148,
   "metadata": {},
   "outputs": [],
   "source": [
    "df= df.groupby(['Product Name'])['Discount'].describe().reset_index().sort_values(by = 'max', ascending = False).head()"
   ]
  },
  {
   "cell_type": "code",
   "execution_count": 149,
   "metadata": {},
   "outputs": [
    {
     "data": {
      "text/html": [
       "<div>\n",
       "<style scoped>\n",
       "    .dataframe tbody tr th:only-of-type {\n",
       "        vertical-align: middle;\n",
       "    }\n",
       "\n",
       "    .dataframe tbody tr th {\n",
       "        vertical-align: top;\n",
       "    }\n",
       "\n",
       "    .dataframe thead th {\n",
       "        text-align: right;\n",
       "    }\n",
       "</style>\n",
       "<table border=\"1\" class=\"dataframe\">\n",
       "  <thead>\n",
       "    <tr style=\"text-align: right;\">\n",
       "      <th></th>\n",
       "      <th>Product Name</th>\n",
       "      <th>count</th>\n",
       "      <th>mean</th>\n",
       "      <th>std</th>\n",
       "      <th>min</th>\n",
       "      <th>25%</th>\n",
       "      <th>50%</th>\n",
       "      <th>75%</th>\n",
       "      <th>max</th>\n",
       "    </tr>\n",
       "  </thead>\n",
       "  <tbody>\n",
       "    <tr>\n",
       "      <td>924</td>\n",
       "      <td>Insertable Tab Post Binder Dividers</td>\n",
       "      <td>8.0</td>\n",
       "      <td>0.575000</td>\n",
       "      <td>0.301188</td>\n",
       "      <td>0.0</td>\n",
       "      <td>0.575</td>\n",
       "      <td>0.7</td>\n",
       "      <td>0.725</td>\n",
       "      <td>0.8</td>\n",
       "    </tr>\n",
       "    <tr>\n",
       "      <td>247</td>\n",
       "      <td>Avery Heavy-Duty EZD View Binder with Locking ...</td>\n",
       "      <td>10.0</td>\n",
       "      <td>0.350000</td>\n",
       "      <td>0.374907</td>\n",
       "      <td>0.0</td>\n",
       "      <td>0.000</td>\n",
       "      <td>0.2</td>\n",
       "      <td>0.775</td>\n",
       "      <td>0.8</td>\n",
       "    </tr>\n",
       "    <tr>\n",
       "      <td>458</td>\n",
       "      <td>Commercial WindTunnel Clean Air Upright Vacuum...</td>\n",
       "      <td>7.0</td>\n",
       "      <td>0.228571</td>\n",
       "      <td>0.390360</td>\n",
       "      <td>0.0</td>\n",
       "      <td>0.000</td>\n",
       "      <td>0.0</td>\n",
       "      <td>0.400</td>\n",
       "      <td>0.8</td>\n",
       "    </tr>\n",
       "    <tr>\n",
       "      <td>701</td>\n",
       "      <td>GBC ProClick 150 Presentation Binding System</td>\n",
       "      <td>5.0</td>\n",
       "      <td>0.500000</td>\n",
       "      <td>0.374166</td>\n",
       "      <td>0.0</td>\n",
       "      <td>0.200</td>\n",
       "      <td>0.7</td>\n",
       "      <td>0.800</td>\n",
       "      <td>0.8</td>\n",
       "    </tr>\n",
       "    <tr>\n",
       "      <td>698</td>\n",
       "      <td>GBC Premium Transparent Covers with Diagonal L...</td>\n",
       "      <td>14.0</td>\n",
       "      <td>0.400000</td>\n",
       "      <td>0.280110</td>\n",
       "      <td>0.2</td>\n",
       "      <td>0.200</td>\n",
       "      <td>0.2</td>\n",
       "      <td>0.700</td>\n",
       "      <td>0.8</td>\n",
       "    </tr>\n",
       "  </tbody>\n",
       "</table>\n",
       "</div>"
      ],
      "text/plain": [
       "                                          Product Name  count      mean  \\\n",
       "924                Insertable Tab Post Binder Dividers    8.0  0.575000   \n",
       "247  Avery Heavy-Duty EZD View Binder with Locking ...   10.0  0.350000   \n",
       "458  Commercial WindTunnel Clean Air Upright Vacuum...    7.0  0.228571   \n",
       "701       GBC ProClick 150 Presentation Binding System    5.0  0.500000   \n",
       "698  GBC Premium Transparent Covers with Diagonal L...   14.0  0.400000   \n",
       "\n",
       "          std  min    25%  50%    75%  max  \n",
       "924  0.301188  0.0  0.575  0.7  0.725  0.8  \n",
       "247  0.374907  0.0  0.000  0.2  0.775  0.8  \n",
       "458  0.390360  0.0  0.000  0.0  0.400  0.8  \n",
       "701  0.374166  0.0  0.200  0.7  0.800  0.8  \n",
       "698  0.280110  0.2  0.200  0.2  0.700  0.8  "
      ]
     },
     "execution_count": 149,
     "metadata": {},
     "output_type": "execute_result"
    }
   ],
   "source": [
    "df"
   ]
  },
  {
   "cell_type": "markdown",
   "metadata": {},
   "source": [
    "Artinya:<br> Product yang memiliki discount paling tinggi adalah barang Insertable Tab Post Binder Dividers"
   ]
  },
  {
   "cell_type": "markdown",
   "metadata": {},
   "source": [
    "## B. Buatlah List Customer yang Order Category Furniture Tetapi Tidak Order Office Supplies di tahun 2017"
   ]
  },
  {
   "cell_type": "code",
   "execution_count": 150,
   "metadata": {},
   "outputs": [],
   "source": [
    "import pandas as pd\n",
    "import numpy as np\n",
    "import matplotlib.pyplot as plt\n",
    "import seaborn as sns\n"
   ]
  },
  {
   "cell_type": "code",
   "execution_count": 151,
   "metadata": {},
   "outputs": [
    {
     "data": {
      "text/html": [
       "<div>\n",
       "<style scoped>\n",
       "    .dataframe tbody tr th:only-of-type {\n",
       "        vertical-align: middle;\n",
       "    }\n",
       "\n",
       "    .dataframe tbody tr th {\n",
       "        vertical-align: top;\n",
       "    }\n",
       "\n",
       "    .dataframe thead th {\n",
       "        text-align: right;\n",
       "    }\n",
       "</style>\n",
       "<table border=\"1\" class=\"dataframe\">\n",
       "  <thead>\n",
       "    <tr style=\"text-align: right;\">\n",
       "      <th></th>\n",
       "      <th>Category</th>\n",
       "      <th>City</th>\n",
       "      <th>Country</th>\n",
       "      <th>Customer Name</th>\n",
       "      <th>Discount</th>\n",
       "      <th>Number of Records</th>\n",
       "      <th>Order Date</th>\n",
       "      <th>Order ID</th>\n",
       "      <th>Postal Code</th>\n",
       "      <th>Manufacturer</th>\n",
       "      <th>Product Name</th>\n",
       "      <th>Profit</th>\n",
       "      <th>Quantity</th>\n",
       "      <th>Region</th>\n",
       "      <th>Sales</th>\n",
       "      <th>Segment</th>\n",
       "      <th>Ship Date</th>\n",
       "      <th>Ship Mode</th>\n",
       "      <th>State</th>\n",
       "      <th>Sub-Category</th>\n",
       "    </tr>\n",
       "  </thead>\n",
       "  <tbody>\n",
       "    <tr>\n",
       "      <td>0</td>\n",
       "      <td>Furniture</td>\n",
       "      <td>Henderson</td>\n",
       "      <td>United States</td>\n",
       "      <td>Claire Gute</td>\n",
       "      <td>0.00</td>\n",
       "      <td>1</td>\n",
       "      <td>11/8/2017</td>\n",
       "      <td>CA-2017-152156</td>\n",
       "      <td>42420.0</td>\n",
       "      <td>Bush</td>\n",
       "      <td>Bush Somerset Collection Bookcase</td>\n",
       "      <td>41.9136</td>\n",
       "      <td>2</td>\n",
       "      <td>South</td>\n",
       "      <td>261.9600</td>\n",
       "      <td>Consumer</td>\n",
       "      <td>11/11/2017</td>\n",
       "      <td>Second Class</td>\n",
       "      <td>Kentucky</td>\n",
       "      <td>Bookcases</td>\n",
       "    </tr>\n",
       "    <tr>\n",
       "      <td>1</td>\n",
       "      <td>Furniture</td>\n",
       "      <td>Henderson</td>\n",
       "      <td>United States</td>\n",
       "      <td>Claire Gute</td>\n",
       "      <td>0.00</td>\n",
       "      <td>1</td>\n",
       "      <td>11/8/2017</td>\n",
       "      <td>CA-2017-152156</td>\n",
       "      <td>42420.0</td>\n",
       "      <td>Hon</td>\n",
       "      <td>Hon Deluxe Fabric Upholstered Stacking Chairs,...</td>\n",
       "      <td>219.5820</td>\n",
       "      <td>3</td>\n",
       "      <td>South</td>\n",
       "      <td>731.9400</td>\n",
       "      <td>Consumer</td>\n",
       "      <td>11/11/2017</td>\n",
       "      <td>Second Class</td>\n",
       "      <td>Kentucky</td>\n",
       "      <td>Chairs</td>\n",
       "    </tr>\n",
       "    <tr>\n",
       "      <td>2</td>\n",
       "      <td>Office Supplies</td>\n",
       "      <td>Los Angeles</td>\n",
       "      <td>United States</td>\n",
       "      <td>Darrin Van Huff</td>\n",
       "      <td>0.00</td>\n",
       "      <td>1</td>\n",
       "      <td>6/12/2017</td>\n",
       "      <td>CA-2017-138688</td>\n",
       "      <td>90036.0</td>\n",
       "      <td>Universal</td>\n",
       "      <td>Self-Adhesive Address Labels for Typewriters b...</td>\n",
       "      <td>6.8714</td>\n",
       "      <td>2</td>\n",
       "      <td>West</td>\n",
       "      <td>14.6200</td>\n",
       "      <td>Corporate</td>\n",
       "      <td>6/16/2017</td>\n",
       "      <td>Second Class</td>\n",
       "      <td>California</td>\n",
       "      <td>Labels</td>\n",
       "    </tr>\n",
       "    <tr>\n",
       "      <td>3</td>\n",
       "      <td>Furniture</td>\n",
       "      <td>Fort Lauderdale</td>\n",
       "      <td>United States</td>\n",
       "      <td>Sean O'Donnell</td>\n",
       "      <td>0.45</td>\n",
       "      <td>1</td>\n",
       "      <td>10/11/2016</td>\n",
       "      <td>US-2016-108966</td>\n",
       "      <td>33311.0</td>\n",
       "      <td>Bretford</td>\n",
       "      <td>Bretford CR4500 Series Slim Rectangular Table</td>\n",
       "      <td>-383.0310</td>\n",
       "      <td>5</td>\n",
       "      <td>South</td>\n",
       "      <td>957.5775</td>\n",
       "      <td>Consumer</td>\n",
       "      <td>10/18/2016</td>\n",
       "      <td>Standard Class</td>\n",
       "      <td>Florida</td>\n",
       "      <td>Tables</td>\n",
       "    </tr>\n",
       "    <tr>\n",
       "      <td>4</td>\n",
       "      <td>Office Supplies</td>\n",
       "      <td>Fort Lauderdale</td>\n",
       "      <td>United States</td>\n",
       "      <td>Sean O'Donnell</td>\n",
       "      <td>0.20</td>\n",
       "      <td>1</td>\n",
       "      <td>10/11/2016</td>\n",
       "      <td>US-2016-108966</td>\n",
       "      <td>33311.0</td>\n",
       "      <td>Eldon</td>\n",
       "      <td>Eldon Fold 'N Roll Cart System</td>\n",
       "      <td>2.5164</td>\n",
       "      <td>2</td>\n",
       "      <td>South</td>\n",
       "      <td>22.3680</td>\n",
       "      <td>Consumer</td>\n",
       "      <td>10/18/2016</td>\n",
       "      <td>Standard Class</td>\n",
       "      <td>Florida</td>\n",
       "      <td>Storage</td>\n",
       "    </tr>\n",
       "  </tbody>\n",
       "</table>\n",
       "</div>"
      ],
      "text/plain": [
       "          Category             City        Country    Customer Name  Discount  \\\n",
       "0        Furniture        Henderson  United States      Claire Gute      0.00   \n",
       "1        Furniture        Henderson  United States      Claire Gute      0.00   \n",
       "2  Office Supplies      Los Angeles  United States  Darrin Van Huff      0.00   \n",
       "3        Furniture  Fort Lauderdale  United States   Sean O'Donnell      0.45   \n",
       "4  Office Supplies  Fort Lauderdale  United States   Sean O'Donnell      0.20   \n",
       "\n",
       "   Number of Records  Order Date        Order ID  Postal Code Manufacturer  \\\n",
       "0                  1   11/8/2017  CA-2017-152156      42420.0         Bush   \n",
       "1                  1   11/8/2017  CA-2017-152156      42420.0          Hon   \n",
       "2                  1   6/12/2017  CA-2017-138688      90036.0    Universal   \n",
       "3                  1  10/11/2016  US-2016-108966      33311.0     Bretford   \n",
       "4                  1  10/11/2016  US-2016-108966      33311.0        Eldon   \n",
       "\n",
       "                                        Product Name    Profit  Quantity  \\\n",
       "0                  Bush Somerset Collection Bookcase   41.9136         2   \n",
       "1  Hon Deluxe Fabric Upholstered Stacking Chairs,...  219.5820         3   \n",
       "2  Self-Adhesive Address Labels for Typewriters b...    6.8714         2   \n",
       "3      Bretford CR4500 Series Slim Rectangular Table -383.0310         5   \n",
       "4                     Eldon Fold 'N Roll Cart System    2.5164         2   \n",
       "\n",
       "  Region     Sales    Segment   Ship Date       Ship Mode       State  \\\n",
       "0  South  261.9600   Consumer  11/11/2017    Second Class    Kentucky   \n",
       "1  South  731.9400   Consumer  11/11/2017    Second Class    Kentucky   \n",
       "2   West   14.6200  Corporate   6/16/2017    Second Class  California   \n",
       "3  South  957.5775   Consumer  10/18/2016  Standard Class     Florida   \n",
       "4  South   22.3680   Consumer  10/18/2016  Standard Class     Florida   \n",
       "\n",
       "  Sub-Category  \n",
       "0    Bookcases  \n",
       "1       Chairs  \n",
       "2       Labels  \n",
       "3       Tables  \n",
       "4      Storage  "
      ]
     },
     "execution_count": 151,
     "metadata": {},
     "output_type": "execute_result"
    }
   ],
   "source": [
    "df1 = pd.read_csv('csv/Sample_Superstore.csv')\n",
    "df1.head()"
   ]
  },
  {
   "cell_type": "code",
   "execution_count": 152,
   "metadata": {},
   "outputs": [
    {
     "data": {
      "text/html": [
       "<div>\n",
       "<style scoped>\n",
       "    .dataframe tbody tr th:only-of-type {\n",
       "        vertical-align: middle;\n",
       "    }\n",
       "\n",
       "    .dataframe tbody tr th {\n",
       "        vertical-align: top;\n",
       "    }\n",
       "\n",
       "    .dataframe thead th {\n",
       "        text-align: right;\n",
       "    }\n",
       "</style>\n",
       "<table border=\"1\" class=\"dataframe\">\n",
       "  <thead>\n",
       "    <tr style=\"text-align: right;\">\n",
       "      <th></th>\n",
       "      <th>Category</th>\n",
       "      <th>Sub-Category</th>\n",
       "      <th>City</th>\n",
       "      <th>Country</th>\n",
       "      <th>Order ID</th>\n",
       "      <th>Order Date</th>\n",
       "    </tr>\n",
       "  </thead>\n",
       "  <tbody>\n",
       "    <tr>\n",
       "      <td>0</td>\n",
       "      <td>Furniture</td>\n",
       "      <td>Bookcases</td>\n",
       "      <td>Henderson</td>\n",
       "      <td>United States</td>\n",
       "      <td>CA-2017-152156</td>\n",
       "      <td>11/8/2017</td>\n",
       "    </tr>\n",
       "    <tr>\n",
       "      <td>1</td>\n",
       "      <td>Furniture</td>\n",
       "      <td>Chairs</td>\n",
       "      <td>Henderson</td>\n",
       "      <td>United States</td>\n",
       "      <td>CA-2017-152156</td>\n",
       "      <td>11/8/2017</td>\n",
       "    </tr>\n",
       "    <tr>\n",
       "      <td>2</td>\n",
       "      <td>Office Supplies</td>\n",
       "      <td>Labels</td>\n",
       "      <td>Los Angeles</td>\n",
       "      <td>United States</td>\n",
       "      <td>CA-2017-138688</td>\n",
       "      <td>6/12/2017</td>\n",
       "    </tr>\n",
       "    <tr>\n",
       "      <td>3</td>\n",
       "      <td>Furniture</td>\n",
       "      <td>Tables</td>\n",
       "      <td>Fort Lauderdale</td>\n",
       "      <td>United States</td>\n",
       "      <td>US-2016-108966</td>\n",
       "      <td>10/11/2016</td>\n",
       "    </tr>\n",
       "    <tr>\n",
       "      <td>4</td>\n",
       "      <td>Office Supplies</td>\n",
       "      <td>Storage</td>\n",
       "      <td>Fort Lauderdale</td>\n",
       "      <td>United States</td>\n",
       "      <td>US-2016-108966</td>\n",
       "      <td>10/11/2016</td>\n",
       "    </tr>\n",
       "  </tbody>\n",
       "</table>\n",
       "</div>"
      ],
      "text/plain": [
       "          Category Sub-Category             City        Country  \\\n",
       "0        Furniture    Bookcases        Henderson  United States   \n",
       "1        Furniture       Chairs        Henderson  United States   \n",
       "2  Office Supplies       Labels      Los Angeles  United States   \n",
       "3        Furniture       Tables  Fort Lauderdale  United States   \n",
       "4  Office Supplies      Storage  Fort Lauderdale  United States   \n",
       "\n",
       "         Order ID  Order Date  \n",
       "0  CA-2017-152156   11/8/2017  \n",
       "1  CA-2017-152156   11/8/2017  \n",
       "2  CA-2017-138688   6/12/2017  \n",
       "3  US-2016-108966  10/11/2016  \n",
       "4  US-2016-108966  10/11/2016  "
      ]
     },
     "execution_count": 152,
     "metadata": {},
     "output_type": "execute_result"
    }
   ],
   "source": [
    "df1[['Category', 'Sub-Category', 'City', 'Country', 'Order ID','Order Date']].head()"
   ]
  },
  {
   "cell_type": "code",
   "execution_count": 153,
   "metadata": {},
   "outputs": [
    {
     "data": {
      "text/html": [
       "<div>\n",
       "<style scoped>\n",
       "    .dataframe tbody tr th:only-of-type {\n",
       "        vertical-align: middle;\n",
       "    }\n",
       "\n",
       "    .dataframe tbody tr th {\n",
       "        vertical-align: top;\n",
       "    }\n",
       "\n",
       "    .dataframe thead th {\n",
       "        text-align: right;\n",
       "    }\n",
       "</style>\n",
       "<table border=\"1\" class=\"dataframe\">\n",
       "  <thead>\n",
       "    <tr style=\"text-align: right;\">\n",
       "      <th></th>\n",
       "      <th>Category</th>\n",
       "      <th>Order Date</th>\n",
       "      <th>Total Order</th>\n",
       "    </tr>\n",
       "  </thead>\n",
       "  <tbody>\n",
       "    <tr>\n",
       "      <td>1281</td>\n",
       "      <td>Office Supplies</td>\n",
       "      <td>12/9/2018</td>\n",
       "      <td>25</td>\n",
       "    </tr>\n",
       "    <tr>\n",
       "      <td>1065</td>\n",
       "      <td>Office Supplies</td>\n",
       "      <td>11/10/2017</td>\n",
       "      <td>25</td>\n",
       "    </tr>\n",
       "    <tr>\n",
       "      <td>2021</td>\n",
       "      <td>Office Supplies</td>\n",
       "      <td>9/5/2017</td>\n",
       "      <td>24</td>\n",
       "    </tr>\n",
       "    <tr>\n",
       "      <td>1972</td>\n",
       "      <td>Office Supplies</td>\n",
       "      <td>9/2/2018</td>\n",
       "      <td>22</td>\n",
       "    </tr>\n",
       "    <tr>\n",
       "      <td>1211</td>\n",
       "      <td>Office Supplies</td>\n",
       "      <td>12/2/2018</td>\n",
       "      <td>22</td>\n",
       "    </tr>\n",
       "  </tbody>\n",
       "</table>\n",
       "</div>"
      ],
      "text/plain": [
       "             Category  Order Date  Total Order\n",
       "1281  Office Supplies   12/9/2018           25\n",
       "1065  Office Supplies  11/10/2017           25\n",
       "2021  Office Supplies    9/5/2017           24\n",
       "1972  Office Supplies    9/2/2018           22\n",
       "1211  Office Supplies   12/2/2018           22"
      ]
     },
     "execution_count": 153,
     "metadata": {},
     "output_type": "execute_result"
    }
   ],
   "source": [
    "dfgroup= df1.groupby(['Category','Order Date'])['Order ID'].count().reset_index().sort_values(by='Order ID',ascending=False)\n",
    "dfgroup.columns = ['Category','Order Date', 'Total Order']\n",
    "dfgroup.head()"
   ]
  },
  {
   "cell_type": "code",
   "execution_count": 154,
   "metadata": {},
   "outputs": [
    {
     "data": {
      "text/plain": [
       "0          Furniture\n",
       "1          Furniture\n",
       "2    Office Supplies\n",
       "3          Furniture\n",
       "4    Office Supplies\n",
       "Name: Category, dtype: object"
      ]
     },
     "execution_count": 154,
     "metadata": {},
     "output_type": "execute_result"
    }
   ],
   "source": [
    "df1['Category'].head()"
   ]
  },
  {
   "cell_type": "code",
   "execution_count": 155,
   "metadata": {},
   "outputs": [],
   "source": [
    "df1['Order Date'] = pd.to_datetime(df1['Order Date'])"
   ]
  },
  {
   "cell_type": "code",
   "execution_count": 156,
   "metadata": {},
   "outputs": [
    {
     "data": {
      "text/html": [
       "<div>\n",
       "<style scoped>\n",
       "    .dataframe tbody tr th:only-of-type {\n",
       "        vertical-align: middle;\n",
       "    }\n",
       "\n",
       "    .dataframe tbody tr th {\n",
       "        vertical-align: top;\n",
       "    }\n",
       "\n",
       "    .dataframe thead th {\n",
       "        text-align: right;\n",
       "    }\n",
       "</style>\n",
       "<table border=\"1\" class=\"dataframe\">\n",
       "  <thead>\n",
       "    <tr style=\"text-align: right;\">\n",
       "      <th></th>\n",
       "      <th>Category</th>\n",
       "      <th>City</th>\n",
       "      <th>Country</th>\n",
       "      <th>Customer Name</th>\n",
       "      <th>Discount</th>\n",
       "      <th>Number of Records</th>\n",
       "      <th>Order Date</th>\n",
       "      <th>Order ID</th>\n",
       "      <th>Postal Code</th>\n",
       "      <th>Manufacturer</th>\n",
       "      <th>Product Name</th>\n",
       "      <th>Profit</th>\n",
       "      <th>Quantity</th>\n",
       "      <th>Region</th>\n",
       "      <th>Sales</th>\n",
       "      <th>Segment</th>\n",
       "      <th>Ship Date</th>\n",
       "      <th>Ship Mode</th>\n",
       "      <th>State</th>\n",
       "      <th>Sub-Category</th>\n",
       "    </tr>\n",
       "  </thead>\n",
       "  <tbody>\n",
       "    <tr>\n",
       "      <td>0</td>\n",
       "      <td>Furniture</td>\n",
       "      <td>Henderson</td>\n",
       "      <td>United States</td>\n",
       "      <td>Claire Gute</td>\n",
       "      <td>0.0</td>\n",
       "      <td>1</td>\n",
       "      <td>2017-11-08</td>\n",
       "      <td>CA-2017-152156</td>\n",
       "      <td>42420.0</td>\n",
       "      <td>Bush</td>\n",
       "      <td>Bush Somerset Collection Bookcase</td>\n",
       "      <td>41.9136</td>\n",
       "      <td>2</td>\n",
       "      <td>South</td>\n",
       "      <td>261.96</td>\n",
       "      <td>Consumer</td>\n",
       "      <td>11/11/2017</td>\n",
       "      <td>Second Class</td>\n",
       "      <td>Kentucky</td>\n",
       "      <td>Bookcases</td>\n",
       "    </tr>\n",
       "    <tr>\n",
       "      <td>1</td>\n",
       "      <td>Furniture</td>\n",
       "      <td>Henderson</td>\n",
       "      <td>United States</td>\n",
       "      <td>Claire Gute</td>\n",
       "      <td>0.0</td>\n",
       "      <td>1</td>\n",
       "      <td>2017-11-08</td>\n",
       "      <td>CA-2017-152156</td>\n",
       "      <td>42420.0</td>\n",
       "      <td>Hon</td>\n",
       "      <td>Hon Deluxe Fabric Upholstered Stacking Chairs,...</td>\n",
       "      <td>219.5820</td>\n",
       "      <td>3</td>\n",
       "      <td>South</td>\n",
       "      <td>731.94</td>\n",
       "      <td>Consumer</td>\n",
       "      <td>11/11/2017</td>\n",
       "      <td>Second Class</td>\n",
       "      <td>Kentucky</td>\n",
       "      <td>Chairs</td>\n",
       "    </tr>\n",
       "    <tr>\n",
       "      <td>36</td>\n",
       "      <td>Furniture</td>\n",
       "      <td>Richardson</td>\n",
       "      <td>United States</td>\n",
       "      <td>Gene Hale</td>\n",
       "      <td>0.6</td>\n",
       "      <td>1</td>\n",
       "      <td>2017-12-08</td>\n",
       "      <td>CA-2017-117590</td>\n",
       "      <td>75080.0</td>\n",
       "      <td>Electrix</td>\n",
       "      <td>Electrix Architect's Clamp-On Swing Arm Lamp, ...</td>\n",
       "      <td>-147.9630</td>\n",
       "      <td>5</td>\n",
       "      <td>Central</td>\n",
       "      <td>190.92</td>\n",
       "      <td>Corporate</td>\n",
       "      <td>12/10/2017</td>\n",
       "      <td>First Class</td>\n",
       "      <td>Texas</td>\n",
       "      <td>Furnishings</td>\n",
       "    </tr>\n",
       "    <tr>\n",
       "      <td>57</td>\n",
       "      <td>Furniture</td>\n",
       "      <td>Troy</td>\n",
       "      <td>United States</td>\n",
       "      <td>Ted Butterfield</td>\n",
       "      <td>0.1</td>\n",
       "      <td>1</td>\n",
       "      <td>2017-06-17</td>\n",
       "      <td>CA-2017-111682</td>\n",
       "      <td>12180.0</td>\n",
       "      <td>Novimex</td>\n",
       "      <td>Novimex Turbo Task Chair</td>\n",
       "      <td>7.0980</td>\n",
       "      <td>5</td>\n",
       "      <td>East</td>\n",
       "      <td>319.41</td>\n",
       "      <td>Consumer</td>\n",
       "      <td>6/18/2017</td>\n",
       "      <td>First Class</td>\n",
       "      <td>New York</td>\n",
       "      <td>Chairs</td>\n",
       "    </tr>\n",
       "    <tr>\n",
       "      <td>119</td>\n",
       "      <td>Furniture</td>\n",
       "      <td>Wilmington</td>\n",
       "      <td>United States</td>\n",
       "      <td>Steven Cartwright</td>\n",
       "      <td>0.0</td>\n",
       "      <td>1</td>\n",
       "      <td>2017-06-12</td>\n",
       "      <td>CA-2017-103730</td>\n",
       "      <td>19805.0</td>\n",
       "      <td>Other</td>\n",
       "      <td>Artistic Insta-Plaque</td>\n",
       "      <td>18.3456</td>\n",
       "      <td>3</td>\n",
       "      <td>East</td>\n",
       "      <td>47.04</td>\n",
       "      <td>Consumer</td>\n",
       "      <td>6/15/2017</td>\n",
       "      <td>First Class</td>\n",
       "      <td>Delaware</td>\n",
       "      <td>Furnishings</td>\n",
       "    </tr>\n",
       "  </tbody>\n",
       "</table>\n",
       "</div>"
      ],
      "text/plain": [
       "      Category        City        Country      Customer Name  Discount  \\\n",
       "0    Furniture   Henderson  United States        Claire Gute       0.0   \n",
       "1    Furniture   Henderson  United States        Claire Gute       0.0   \n",
       "36   Furniture  Richardson  United States          Gene Hale       0.6   \n",
       "57   Furniture        Troy  United States    Ted Butterfield       0.1   \n",
       "119  Furniture  Wilmington  United States  Steven Cartwright       0.0   \n",
       "\n",
       "     Number of Records Order Date        Order ID  Postal Code Manufacturer  \\\n",
       "0                    1 2017-11-08  CA-2017-152156      42420.0         Bush   \n",
       "1                    1 2017-11-08  CA-2017-152156      42420.0          Hon   \n",
       "36                   1 2017-12-08  CA-2017-117590      75080.0     Electrix   \n",
       "57                   1 2017-06-17  CA-2017-111682      12180.0      Novimex   \n",
       "119                  1 2017-06-12  CA-2017-103730      19805.0        Other   \n",
       "\n",
       "                                          Product Name    Profit  Quantity  \\\n",
       "0                    Bush Somerset Collection Bookcase   41.9136         2   \n",
       "1    Hon Deluxe Fabric Upholstered Stacking Chairs,...  219.5820         3   \n",
       "36   Electrix Architect's Clamp-On Swing Arm Lamp, ... -147.9630         5   \n",
       "57                            Novimex Turbo Task Chair    7.0980         5   \n",
       "119                              Artistic Insta-Plaque   18.3456         3   \n",
       "\n",
       "      Region   Sales    Segment   Ship Date     Ship Mode     State  \\\n",
       "0      South  261.96   Consumer  11/11/2017  Second Class  Kentucky   \n",
       "1      South  731.94   Consumer  11/11/2017  Second Class  Kentucky   \n",
       "36   Central  190.92  Corporate  12/10/2017   First Class     Texas   \n",
       "57      East  319.41   Consumer   6/18/2017   First Class  New York   \n",
       "119     East   47.04   Consumer   6/15/2017   First Class  Delaware   \n",
       "\n",
       "    Sub-Category  \n",
       "0      Bookcases  \n",
       "1         Chairs  \n",
       "36   Furnishings  \n",
       "57        Chairs  \n",
       "119  Furnishings  "
      ]
     },
     "execution_count": 156,
     "metadata": {},
     "output_type": "execute_result"
    }
   ],
   "source": [
    "df_list_pr = df1[(df1['Category'] == 'Furniture') & (df1['Order Date'] >= '2017-01-01') & (df1['Order Date'] < '2018-01-01') ]\n",
    "df_list_pr.head()"
   ]
  },
  {
   "cell_type": "code",
   "execution_count": 157,
   "metadata": {},
   "outputs": [],
   "source": [
    "df_list_pr.to_csv('csv/hasilkerjaan_soal_no_2.csv')"
   ]
  },
  {
   "cell_type": "code",
   "execution_count": 158,
   "metadata": {},
   "outputs": [
    {
     "data": {
      "text/html": [
       "<div>\n",
       "<style scoped>\n",
       "    .dataframe tbody tr th:only-of-type {\n",
       "        vertical-align: middle;\n",
       "    }\n",
       "\n",
       "    .dataframe tbody tr th {\n",
       "        vertical-align: top;\n",
       "    }\n",
       "\n",
       "    .dataframe thead th {\n",
       "        text-align: right;\n",
       "    }\n",
       "</style>\n",
       "<table border=\"1\" class=\"dataframe\">\n",
       "  <thead>\n",
       "    <tr style=\"text-align: right;\">\n",
       "      <th></th>\n",
       "      <th>Category</th>\n",
       "      <th>Order Date</th>\n",
       "    </tr>\n",
       "  </thead>\n",
       "  <tbody>\n",
       "    <tr>\n",
       "      <td>0</td>\n",
       "      <td>Furniture</td>\n",
       "      <td>2017-11-08</td>\n",
       "    </tr>\n",
       "    <tr>\n",
       "      <td>1</td>\n",
       "      <td>Furniture</td>\n",
       "      <td>2017-11-08</td>\n",
       "    </tr>\n",
       "    <tr>\n",
       "      <td>36</td>\n",
       "      <td>Furniture</td>\n",
       "      <td>2017-12-08</td>\n",
       "    </tr>\n",
       "    <tr>\n",
       "      <td>57</td>\n",
       "      <td>Furniture</td>\n",
       "      <td>2017-06-17</td>\n",
       "    </tr>\n",
       "    <tr>\n",
       "      <td>119</td>\n",
       "      <td>Furniture</td>\n",
       "      <td>2017-06-12</td>\n",
       "    </tr>\n",
       "  </tbody>\n",
       "</table>\n",
       "</div>"
      ],
      "text/plain": [
       "      Category Order Date\n",
       "0    Furniture 2017-11-08\n",
       "1    Furniture 2017-11-08\n",
       "36   Furniture 2017-12-08\n",
       "57   Furniture 2017-06-17\n",
       "119  Furniture 2017-06-12"
      ]
     },
     "execution_count": 158,
     "metadata": {},
     "output_type": "execute_result"
    }
   ],
   "source": [
    "df_list_pr[['Category','Order Date']].head()"
   ]
  },
  {
   "cell_type": "code",
   "execution_count": 159,
   "metadata": {},
   "outputs": [
    {
     "data": {
      "text/html": [
       "<div>\n",
       "<style scoped>\n",
       "    .dataframe tbody tr th:only-of-type {\n",
       "        vertical-align: middle;\n",
       "    }\n",
       "\n",
       "    .dataframe tbody tr th {\n",
       "        vertical-align: top;\n",
       "    }\n",
       "\n",
       "    .dataframe thead th {\n",
       "        text-align: right;\n",
       "    }\n",
       "</style>\n",
       "<table border=\"1\" class=\"dataframe\">\n",
       "  <thead>\n",
       "    <tr style=\"text-align: right;\">\n",
       "      <th></th>\n",
       "      <th>Category</th>\n",
       "      <th>Order Date</th>\n",
       "      <th>Total Order</th>\n",
       "    </tr>\n",
       "  </thead>\n",
       "  <tbody>\n",
       "    <tr>\n",
       "      <td>142</td>\n",
       "      <td>Furniture</td>\n",
       "      <td>2017-09-05</td>\n",
       "      <td>10</td>\n",
       "    </tr>\n",
       "    <tr>\n",
       "      <td>227</td>\n",
       "      <td>Furniture</td>\n",
       "      <td>2017-12-25</td>\n",
       "      <td>9</td>\n",
       "    </tr>\n",
       "    <tr>\n",
       "      <td>206</td>\n",
       "      <td>Furniture</td>\n",
       "      <td>2017-12-01</td>\n",
       "      <td>9</td>\n",
       "    </tr>\n",
       "    <tr>\n",
       "      <td>182</td>\n",
       "      <td>Furniture</td>\n",
       "      <td>2017-11-04</td>\n",
       "      <td>8</td>\n",
       "    </tr>\n",
       "    <tr>\n",
       "      <td>152</td>\n",
       "      <td>Furniture</td>\n",
       "      <td>2017-09-18</td>\n",
       "      <td>8</td>\n",
       "    </tr>\n",
       "  </tbody>\n",
       "</table>\n",
       "</div>"
      ],
      "text/plain": [
       "      Category Order Date  Total Order\n",
       "142  Furniture 2017-09-05           10\n",
       "227  Furniture 2017-12-25            9\n",
       "206  Furniture 2017-12-01            9\n",
       "182  Furniture 2017-11-04            8\n",
       "152  Furniture 2017-09-18            8"
      ]
     },
     "execution_count": 159,
     "metadata": {},
     "output_type": "execute_result"
    }
   ],
   "source": [
    "df_group_list_pr= df_list_pr.groupby(['Category','Order Date'])['Order ID'].count().reset_index().sort_values(by='Order ID', ascending=False)\n",
    "df_group_list_pr.columns= ['Category','Order Date','Total Order']\n",
    "df_group_list_pr.head()"
   ]
  },
  {
   "cell_type": "code",
   "execution_count": 160,
   "metadata": {},
   "outputs": [],
   "source": [
    "df_group_list_pr.to_csv('csv/hasilkerjaan_group_list_soal_no_2.csv')"
   ]
  },
  {
   "cell_type": "code",
   "execution_count": 161,
   "metadata": {},
   "outputs": [
    {
     "data": {
      "text/plain": [
       "<matplotlib.axes._subplots.AxesSubplot at 0x1ddc37b8ac8>"
      ]
     },
     "execution_count": 161,
     "metadata": {},
     "output_type": "execute_result"
    },
    {
     "data": {
      "image/png": "[encoded data removed]",
      "text/plain": [
       "<Figure size 576x432 with 1 Axes>"
      ]
     },
     "metadata": {
      "needs_background": "light"
     },
     "output_type": "display_data"
    }
   ],
   "source": [
    "df_group_list_pr.boxplot(column='Total Order', by='Category', figsize=(8,6))"
   ]
  },
  {
   "cell_type": "code",
   "execution_count": 162,
   "metadata": {},
   "outputs": [
    {
     "data": {
      "text/plain": [
       "Text(0.5, 0, 'Order Date')"
      ]
     },
     "execution_count": 162,
     "metadata": {},
     "output_type": "execute_result"
    },
    {
     "data": {
      "image/png": "[encoded data removed]",
      "text/plain": [
       "<Figure size 1440x720 with 1 Axes>"
      ]
     },
     "metadata": {
      "needs_background": "light"
     },
     "output_type": "display_data"
    }
   ],
   "source": [
    "x = df_group_list_pr['Order Date']\n",
    "y = df_group_list_pr['Total Order']\n",
    "\n",
    "plt.figure(figsize=(20,10))\n",
    "barh = plt.bar(x=x, height=y, data=df_group_list_pr, \n",
    "       color = 'y', # bar colors\n",
    "       edgecolor= 'red', # edge bar colors\n",
    "       linewidth = 3) # line width of bar\n",
    "plt.title('PErbandningan Antara Order Date dan Total ORder ', fontsize = 16) #add title\n",
    "plt.ylabel('Total Order', fontsize=14) # y axis label\n",
    "plt.xlabel('Order Date', fontsize=14) # x axis label\n",
    "\n",
    "\n",
    "\n"
   ]
  },
  {
   "cell_type": "code",
   "execution_count": 163,
   "metadata": {},
   "outputs": [
    {
     "data": {
      "text/plain": [
       "<matplotlib.axes._subplots.AxesSubplot at 0x1ddc21ee048>"
      ]
     },
     "execution_count": 163,
     "metadata": {},
     "output_type": "execute_result"
    },
    {
     "data": {
      "image/png": "[encoded data removed]",
      "text/plain": [
       "<Figure size 1440x720 with 1 Axes>"
      ]
     },
     "metadata": {
      "needs_background": "light"
     },
     "output_type": "display_data"
    }
   ],
   "source": [
    "df_group_list_pr[df_group_list_pr['Order Date'] >= '2017-01-01'].plot.line(x='Order Date', y='Total Order', figsize=(20,10))"
   ]
  }
 ],
 "metadata": {
  "kernelspec": {
   "display_name": "Python 3",
   "language": "python",
   "name": "python3"
  },
  "language_info": {
   "codemirror_mode": {
    "name": "ipython",
    "version": 3
   },
   "file_extension": ".py",
   "mimetype": "text/x-python",
   "name": "python",
   "nbconvert_exporter": "python",
   "pygments_lexer": "ipython3",
   "version": "3.7.4"
  }
 },
 "nbformat": 4,
 "nbformat_minor": 2
}
